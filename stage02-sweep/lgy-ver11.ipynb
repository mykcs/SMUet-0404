{
 "metadata": {
  "kernelspec": {
   "language": "python",
   "display_name": "Python 3",
   "name": "python3"
  },
  "language_info": {
   "name": "python",
   "version": "3.10.13",
   "mimetype": "text/x-python",
   "codemirror_mode": {
    "name": "ipython",
    "version": 3
   },
   "pygments_lexer": "ipython3",
   "nbconvert_exporter": "python",
   "file_extension": ".py"
  },
  "kaggle": {
   "accelerator": "gpu",
   "dataSources": [
    {
     "sourceId": 7972942,
     "sourceType": "datasetVersion",
     "datasetId": 4691017,
     "isSourceIdPinned": false
    },
    {
     "sourceId": 8042290,
     "sourceType": "datasetVersion",
     "datasetId": 4741616
    }
   ],
   "dockerImageVersionId": 30674,
   "isInternetEnabled": true,
   "language": "python",
   "sourceType": "notebook",
   "isGpuEnabled": true
  }
 },
 "nbformat_minor": 4,
 "nbformat": 4,
 "cells": [
  {
   "cell_type": "code",
   "source": [
    "# Pip 安装命令\n",
    "!pip install segmentation-models-pytorch\n",
    "# !pip install lightning\n",
    "!pip install wandb -U\n",
    "!pip install monai"
   ],
   "metadata": {},
   "execution_count": null,
   "outputs": []
  },
  {
   "cell_type": "code",
   "source": [
    "# 导入的库\n",
    "import IPython\n",
    "import albumentations as A\n",
    "import monai\n",
    "import pytorch_lightning as pl\n",
    "import segmentation_models_pytorch as smp\n",
    "import torch\n",
    "# from fastai.losses import *\n",
    "import torchmetrics\n",
    "import wandb\n",
    "from IPython.display import display\n",
    "from albumentations.pytorch import ToTensorV2\n",
    "from pytorch_lightning import LightningDataModule\n",
    "from pytorch_lightning import Trainer\n",
    "from pytorch_lightning.callbacks import Callback\n",
    "from pytorch_lightning.callbacks import LearningRateMonitor\n",
    "from pytorch_lightning.core.mixins import HyperparametersMixin\n",
    "from pytorch_lightning.loggers import WandbLogger\n",
    "from pytorch_lightning.tuner.tuning import Tuner\n",
    "from torch.utils.data import Dataset, DataLoader\n",
    "\n",
    "# !pip install ipywidgets\n",
    "# !pip install albumentations\n",
    "# !pip install nibabel\n",
    "\n",
    "IPython.display.clear_output()\n",
    "\n",
    "print(\"Envirionment Set Up.\")"
   ],
   "metadata": {
    "_uuid": "36007df4-0fc3-4938-9a09-f54d22d06e5f",
    "_cell_guid": "c62342c1-1564-439b-b5f2-8bc2c518bdaf",
    "_kg_hide-output": true,
    "execution": {
     "iopub.status.busy": "2024-04-06T10:41:05.048251Z",
     "iopub.execute_input": "2024-04-06T10:41:05.04857Z",
     "iopub.status.idle": "2024-04-06T10:42:49.23994Z",
     "shell.execute_reply.started": "2024-04-06T10:41:05.048546Z",
     "shell.execute_reply": "2024-04-06T10:42:49.238999Z"
    },
    "trusted": true
   },
   "execution_count": null,
   "outputs": []
  },
  {
   "cell_type": "markdown",
   "source": [
    "# Dataset and Augment Setting"
   ],
   "metadata": {
    "_uuid": "5cf48cd2-93fe-4aac-ada9-1a19cd8b2e56",
    "_cell_guid": "0134c009-4039-4716-893f-56425743cab6",
    "trusted": true
   }
  },
  {
   "cell_type": "code",
   "source": [
    "# 定义数据增强\n",
    "train_transform = A.Compose([\n",
    "    A.Resize(256, 256),\n",
    "    A.HorizontalFlip(p=0.5),\n",
    "    A.VerticalFlip(p=0.5),\n",
    "    A.RandomRotate90(),\n",
    "    #     A.RandomBrightnessContrast(p=0.2),\n",
    "    A.ElasticTransform(p=0.5, alpha=120, sigma=120 * 0.3, alpha_affine=120 * 0.2),\n",
    "    A.RandomSizedCrop(min_max_height=(128, 256), height=256, width=256, p=0.5),\n",
    "    # A.Normalize(mean=(0.5,), std=(0.5,)),\n",
    "    ToTensorV2(),\n",
    "])\n",
    "\n",
    "val_transform = A.Compose([\n",
    "    A.Resize(256, 256),\n",
    "    # A.Normalize(mean=(0.5,), std=(0.5,)),\n",
    "    ToTensorV2(),\n",
    "])\n",
    "\n",
    "\n",
    "def adjust_window(image, window_center, window_width):\n",
    "    \"\"\"\n",
    "    调整CT图像的窗宽窗位。\n",
    "    :param image: 输入的图像数组。\n",
    "    :param window_center: 窗位（WC）。\n",
    "    :param window_width: 窗宽（WW）。\n",
    "    :return: 调整窗宽窗位后的图像。\n",
    "    \"\"\"\n",
    "    img_min = window_center - window_width // 2\n",
    "    img_max = window_center + window_width // 2\n",
    "    windowed_img = np.clip(image, img_min, img_max)\n",
    "    # print(windowed_img.dtype) # NOW its float64\n",
    "    return windowed_img\n",
    "\n",
    "\n",
    "class MultipleImageDataset(Dataset):\n",
    "    def __init__(self, image_paths, label_paths, transform=None):\n",
    "        \"\"\"\n",
    "        image_paths: 图像文件路径列表\n",
    "        label_paths: 标签文件路径列表\n",
    "        transform: 应用于图像和标签的转换操作\n",
    "        \"\"\"\n",
    "        self.image_paths = image_paths\n",
    "        self.label_paths = label_paths\n",
    "        self.transform = transform\n",
    "\n",
    "    def __len__(self):\n",
    "        # 假设图像和标签列表长度相等\n",
    "        return len(self.image_paths)\n",
    "\n",
    "    def __getitem__(self, idx):  # dataloader获取每个数据都会用到这个函数，所以你应当在这里实现你需要的\n",
    "        # 预处理等等步骤\n",
    "        image = (np.load(self.image_paths[idx]))['arr_0']\n",
    "        #         print(image.shape)\n",
    "        label = (np.load(self.label_paths[idx]))['arr_0']\n",
    "        #         print(label.shape)\n",
    "\n",
    "        image = adjust_window(image, window_center=40, window_width=400)\n",
    "\n",
    "        if self.transform:\n",
    "            #             image = image.astype(np.float32)\n",
    "            augmented = self.transform(image=image, mask=label)\n",
    "            image = augmented['image']\n",
    "            #             print(\"image aug\")\n",
    "            label = augmented['mask']\n",
    "            image = image.float()\n",
    "            label = label.long()\n",
    "\n",
    "        label = label.long()\n",
    "        image = (image - image.min()) / (image.max() - image.min())\n",
    "        return image.float(), label.long()\n",
    "\n",
    "\n",
    "######################################################################################################################\n",
    "class MOADataModule(LightningDataModule):\n",
    "    def __init__(self, data_dir: str, batch_size: int = 16):\n",
    "        super().__init__()\n",
    "        self.data_dir = data_dir\n",
    "        self.batch_size = batch_size\n",
    "        self.train_transform = train_transform\n",
    "        self.val_transform = val_transform\n",
    "\n",
    "    def setup(self, stage=None):\n",
    "        image_dir = os.path.join(self.data_dir, 'image_npz')  # 注意这里路径的更正\n",
    "        label_dir = os.path.join(self.data_dir, 'mask_npz')\n",
    "\n",
    "        # 读取文件路径\n",
    "        image_files = sorted([os.path.join(image_dir, f) for f in os.listdir(image_dir) if f.endswith('.npz')])\n",
    "        label_files = sorted([os.path.join(label_dir, f) for f in os.listdir(label_dir) if f.endswith('.npz')])\n",
    "\n",
    "        # 划分训练集、验证集、测试集\n",
    "        train_size = int(0.8 * len(image_files))\n",
    "        val_size = int(0.1 * len(image_files))\n",
    "\n",
    "        self.train_image_paths = image_files[:train_size]\n",
    "        self.val_image_paths = image_files[train_size:train_size + val_size]\n",
    "        self.test_image_paths = image_files[train_size + val_size:]\n",
    "\n",
    "        self.train_label_paths = label_files[:train_size]\n",
    "        self.val_label_paths = label_files[train_size:train_size + val_size]\n",
    "        self.test_label_paths = label_files[train_size + val_size:]\n",
    "\n",
    "    def train_dataloader(self):\n",
    "        train_dataset = MultipleImageDataset(self.train_image_paths, self.train_label_paths,\n",
    "                                             transform=self.train_transform)\n",
    "        return DataLoader(train_dataset, batch_size=self.batch_size, shuffle=True, num_workers=4, pin_memory=True)\n",
    "\n",
    "    def val_dataloader(self):\n",
    "        val_dataset = MultipleImageDataset(self.val_image_paths, self.val_label_paths, transform=self.val_transform)\n",
    "        return DataLoader(val_dataset, batch_size=self.batch_size, shuffle=False, num_workers=2, pin_memory=True)\n",
    "\n",
    "    def test_dataloader(self):\n",
    "        test_dataset = MultipleImageDataset(self.test_image_paths, self.test_label_paths, transform=self.val_transform)\n",
    "        return DataLoader(test_dataset, batch_size=self.batch_size, shuffle=False, num_workers=2, pin_memory=True)\n"
   ],
   "metadata": {
    "_uuid": "d3ebdfad-a463-469d-812a-9214d9338d08",
    "_cell_guid": "cfd87ac0-9db7-4743-9831-9f75542fc41c",
    "_kg_hide-input": true,
    "_kg_hide-output": true,
    "execution": {
     "iopub.status.busy": "2024-04-06T05:57:10.482993Z",
     "iopub.execute_input": "2024-04-06T05:57:10.483358Z",
     "iopub.status.idle": "2024-04-06T05:57:10.514398Z",
     "shell.execute_reply.started": "2024-04-06T05:57:10.483327Z",
     "shell.execute_reply": "2024-04-06T05:57:10.51345Z"
    },
    "trusted": true
   },
   "execution_count": null,
   "outputs": []
  },
  {
   "cell_type": "code",
   "outputs": [],
   "source": [
    "# 定义数据集和数据加载器\n",
    "data_dir = '/kaggle/input/rawniidataset/SMU_Dataset'\n"
   ],
   "metadata": {
    "collapsed": false
   }
  },
  {
   "cell_type": "code",
   "outputs": [],
   "source": [
    "def predict_and_log_images(num_samples=2):\n",
    "    # 假设 test_loader 和 model 已经定义好了，并且 model 已经移动到了适当的设备\n",
    "    device = torch.device(\"cuda\" if torch.cuda.is_available() else \"cpu\")\n",
    "    model.to(device)\n",
    "    test_loader = data_module.test_dataloader()\n",
    "\n",
    "    # 生成随机索引\n",
    "    indices = torch.randperm(len(test_loader.dataset))[:num_samples]\n",
    "    # 调整subplot的大小\n",
    "    fig, axs = plt.subplots(num_samples, 3, figsize=(15, 5 * num_samples))  # 每个样本显示3张图（原图、真实掩码、预测掩码）\n",
    "\n",
    "    for i, idx in enumerate(indices):\n",
    "        image, mask = test_loader.dataset[idx]\n",
    "        image = image.unsqueeze(0).to(device)  # 添加batch维度并移动到设备\n",
    "        mask = mask.squeeze()  # 移除batch维度（如果有的话）\n",
    "\n",
    "        with torch.no_grad():\n",
    "            pred = model(image)\n",
    "            prediction = torch.argmax(pred, dim=1).cpu()  # 获取预测类别并移回CPU\n",
    "\n",
    "        # 显示原始图像\n",
    "        axs[i, 0].imshow(image.squeeze().cpu().numpy(), cmap='gray')\n",
    "        axs[i, 0].set_title(f'Original Image {i + 1}')\n",
    "        axs[i, 0].axis('off')\n",
    "\n",
    "        # 显示Ground Truth\n",
    "        axs[i, 1].imshow(mask.cpu().numpy(), cmap='gray')\n",
    "        axs[i, 1].set_title(f'True Mask {i + 1}')\n",
    "        axs[i, 1].axis('off')\n",
    "\n",
    "        # 显示预测掩码\n",
    "        axs[i, 2].imshow(prediction[0].numpy(), cmap='gray')\n",
    "        axs[i, 2].set_title(f'Predicted Mask {i + 1}')\n",
    "        axs[i, 2].axis('off')\n",
    "\n",
    "    plt.tight_layout()\n",
    "    plt.close(fig)  # 防止在notebook中显示图像\n",
    "    return fig\n",
    "\n",
    "\n",
    "class ValidationCallback(Callback):\n",
    "    def on_validation_epoch_end(self, trainer, pl_module):\n",
    "        print(\"Validation epoch ended. Executing custom actions...\")  # myk\n",
    "        # 每10个epoch执行一次\n",
    "        if (trainer.current_epoch + 1) % 10 == 0:\n",
    "            fig = predict_and_log_images(num_samples=2)\n",
    "            # 用wandb记录图像，或进行其他操作\n",
    "            wandb.log({\"Validation Callback Predicted Images\": wandb.Image(fig)})"
   ],
   "metadata": {
    "collapsed": false
   }
  },
  {
   "cell_type": "markdown",
   "source": [
    "# (Opt) Data Pre-Check"
   ],
   "metadata": {
    "_uuid": "877d1009-7e88-4dff-8d32-34f278b9ba2f",
    "_cell_guid": "f5aba93a-1cc3-4f13-9763-b1bbe5b31453",
    "trusted": true
   }
  },
  {
   "cell_type": "code",
   "outputs": [],
   "source": [
    "import matplotlib.pyplot as plt\n",
    "import numpy as np\n",
    "\n",
    "# 初始化数据模块\n",
    "data_module = MOADataModule(data_dir='/kaggle/input/rawniidataset/SMU_Dataset', batch_size=16)\n",
    "\n",
    "# 设置数据模块（准备数据）\n",
    "data_module.setup()\n"
   ],
   "metadata": {
    "collapsed": false
   }
  },
  {
   "cell_type": "code",
   "source": [
    "# 获取训练数据加载器\n",
    "train_loader = data_module.train_dataloader()\n",
    "\n",
    "# 从数据加载器中抽取一批数据\n",
    "images, labels = next(iter(train_loader))\n",
    "\n",
    "# 选择要展示的图像数量\n",
    "num_images_to_show = 4\n",
    "\n",
    "# 创建图表来展示图像和对应的掩码\n",
    "fig, axs = plt.subplots(num_images_to_show, 3, figsize=(15, num_images_to_show * 5))\n",
    "\n",
    "for i in range(num_images_to_show):\n",
    "    img = images[i].squeeze().numpy()  # 假设图像和掩码都只有一个通道\n",
    "    lbl = labels[i].squeeze().numpy()\n",
    "    overlay = np.ma.masked_where(lbl == 0, lbl)\n",
    "\n",
    "    axs[i, 0].imshow(img, cmap='gray')\n",
    "    axs[i, 0].set_title('Image')\n",
    "    axs[i, 0].axis('off')\n",
    "\n",
    "    axs[i, 1].imshow(lbl, cmap='gray')\n",
    "    axs[i, 1].set_title('Mask')\n",
    "    axs[i, 1].axis('off')\n",
    "\n",
    "    axs[i, 2].imshow(img, cmap='gray')\n",
    "    axs[i, 2].imshow(overlay, cmap='autumn', alpha=0.5)\n",
    "    axs[i, 2].set_title('Overlay')\n",
    "    axs[i, 2].axis('off')\n",
    "\n",
    "    print(f\"Image shape: {img.shape}\")\n",
    "    print(f\"Label shape: {lbl.shape}\")\n",
    "    print(f\"Image M&m Value: {img.max(), img.min()}\")\n",
    "    print(f\"Label Unique: {np.unique(lbl)}\")\n",
    "\n",
    "plt.tight_layout()\n",
    "plt.show()\n",
    "print('Show Time!')"
   ],
   "metadata": {
    "execution": {
     "iopub.status.busy": "2024-04-06T05:57:11.336425Z",
     "iopub.execute_input": "2024-04-06T05:57:11.336809Z",
     "iopub.status.idle": "2024-04-06T05:57:17.75799Z",
     "shell.execute_reply.started": "2024-04-06T05:57:11.336781Z",
     "shell.execute_reply": "2024-04-06T05:57:17.756933Z"
    },
    "collapsed": true,
    "jupyter": {
     "outputs_hidden": true
    },
    "trusted": true
   },
   "execution_count": null,
   "outputs": []
  },
  {
   "cell_type": "markdown",
   "source": [
    "# Model Setting"
   ],
   "metadata": {
    "_uuid": "612e9ff5-ea09-4a38-bc45-d077638c795f",
    "_cell_guid": "13f85698-ebef-40de-a063-58b836eb7980",
    "trusted": true
   }
  },
  {
   "cell_type": "markdown",
   "source": [
    "移除了class DoubleConv(nn.Module):"
   ],
   "metadata": {
    "collapsed": false
   }
  },
  {
   "cell_type": "markdown",
   "source": [
    "损失函数：\n",
    "你使用了monai.losses.DiceCELoss ，一个结合了Dice Loss和 Cross-Entropy Loss 的混合损失函数。\n",
    "这种混合能帮助模型更稳定地收敛，并平衡精确性和召回率。 \n",
    "对于医学图像分割任务，这是一个合理的选择。 \n",
    "除了 Dice Loss 外，医学图像中常使用的分割损失函数还有 Focal Loss，Tversky Loss，Generalized Dice Loss 等等。\n",
    "您可以进行实验，看看不同的损失函数是否会对模型的性能产生影响。\n",
    "\n",
    "评价指标： 你使用了 torchmetrics 库计算精度、微观精度、宏观精度、Dice系数、F1 score、Jaccard系数等指标。这些指标能全面评估分割模型的性能。\n",
    "\n",
    "优化器和学习率调度器： 使用了 Adam 优化器和 CosineAnnealingLR 学习率调度器。Adam 是深度学习中常用的自适应优化器，余弦退火学习率能有效平稳地降低学习率并有助于模型收敛。"
   ],
   "metadata": {
    "collapsed": false
   }
  },
  {
   "cell_type": "code",
   "source": [
    "class UNetTestModel(pl.LightningModule, HyperparametersMixin):\n",
    "    def __init__(\n",
    "            self,\n",
    "            encoder_name='resnet50',\n",
    "            encoder_weights='imagenet',\n",
    "            in_channels=1,\n",
    "            classes=14,\n",
    "            #         loss_fn=monai.losses.FocalLoss(use_softmax=True, to_onehot_y=True, include_background=False),\n",
    "            loss_fn=monai.losses.DiceCELoss(softmax=True, lambda_dice=0.85, lambda_ce=0.15, to_onehot_y=True,\n",
    "                                            include_background=True),\n",
    "            #         loss_fn=monai.losses.DiceFocalLoss(softmax=True, lambda_dice=0.85, gamma=2.3, lambda_focal=0.15, to_onehot_y=True),\n",
    "\n",
    "            #         loss_fn=monai.losses.DiceLoss( to_onehot_y=True),\n",
    "            loss_function='DiceCELoss',\n",
    "            learning_rate=3e-3,\n",
    "    ):\n",
    "        super().__init__()\n",
    "        self.save_hyperparameters()\n",
    "        ###################### model #########################\n",
    "        self.model = smp.Unet(\n",
    "            encoder_name=encoder_name,\n",
    "            encoder_weights=encoder_weights,\n",
    "            in_channels=in_channels,\n",
    "            classes=classes,\n",
    "            #             decoder_attention_type='scse',\n",
    "        )\n",
    "        ###################### loss ##########################\n",
    "        self.loss_fn = loss_fn\n",
    "        ###################### metrics ######################\n",
    "        #         self.train_accuracy = torchmetrics.classification.Accuracy(task=\"multiclass\", num_classes=classes, average='micro', ignore_index=0)\n",
    "        self.val_accuracy_MACRO = torchmetrics.classification.Accuracy(task=\"multiclass\", num_classes=classes,\n",
    "                                                                       average='macro', ignore_index=0)\n",
    "        self.val_accuracy_micro = torchmetrics.classification.Accuracy(task=\"multiclass\", num_classes=classes,\n",
    "                                                                       average='micro', ignore_index=0)\n",
    "        self.val_accuracy_classwise = torchmetrics.classification.Accuracy(task=\"multiclass\", num_classes=classes,\n",
    "                                                                           average='none',\n",
    "                                                                           ignore_index=0)  # ver 1gy new\n",
    "        self.Dice = torchmetrics.classification.Dice(multiclass=True, num_classes=classes, average='micro',\n",
    "                                                     ignore_index=0)\n",
    "        self.F1 = torchmetrics.classification.MulticlassF1Score(num_classes=classes, average=\"micro\", ignore_index=0)\n",
    "        self.Jaccard = torchmetrics.classification.MulticlassJaccardIndex(num_classes=classes, average=\"micro\",\n",
    "                                                                          ignore_index=0)\n",
    "\n",
    "    # 定义前向传播\n",
    "    def forward(self, x):\n",
    "        return self.model(x)\n",
    "\n",
    "    # 定义单个训练步的计算流程\n",
    "    def training_step(self, batch, batch_idx):\n",
    "        images, labels = batch\n",
    "        outputs = self.forward(images)\n",
    "\n",
    "        loss = self.loss_fn(outputs, labels.unsqueeze(1))\n",
    "        self.log('train_loss', loss, on_step=True, on_epoch=False, logger=True, prog_bar=True)\n",
    "\n",
    "        return loss\n",
    "\n",
    "    # 定义单个验证步的计算流程\n",
    "    def validation_step(self, batch, batch_idx):\n",
    "        print(\"val_step going\")\n",
    "        images, labels = batch\n",
    "        outputs = self.forward(images)\n",
    "        loss = self.loss_fn(outputs, labels.unsqueeze(1))\n",
    "        preds = torch.argmax(outputs, dim=1)\n",
    "\n",
    "        # print(labels_one_hot.shape)\n",
    "        acc_micro = self.val_accuracy_micro(preds, labels)\n",
    "        acc_MACRO = self.val_accuracy_MACRO(preds, labels)\n",
    "        Dice = self.Dice(preds, labels)\n",
    "        F1 = self.F1(preds, labels)\n",
    "        Jaccard = self.Jaccard(preds, labels)\n",
    "        acc = self.val_accuracy_classwise(preds, labels)\n",
    "\n",
    "        self.log('val_loss', loss, on_step=True, on_epoch=False, logger=True, prog_bar=True)\n",
    "        self.log('val_accuracy_micro', acc_micro, on_step=True, on_epoch=False, logger=True, prog_bar=True)\n",
    "        self.log('val_accuracy_MACRO', acc_MACRO, on_step=True, on_epoch=False, logger=True, prog_bar=True)\n",
    "        self.log('val_F1', F1, on_step=True, on_epoch=False, logger=True, prog_bar=True)\n",
    "        self.log('val_Dice', Dice, on_step=True, on_epoch=False, logger=True, prog_bar=True)\n",
    "        self.log('val_Jaccard', Jaccard, on_step=True, on_epoch=False, logger=True, prog_bar=True)\n",
    "\n",
    "        self.log('val_acc_4', acc[4], on_step=True, on_epoch=False, logger=True, prog_bar=True)\n",
    "        self.log('val_acc_5', acc[5], on_step=True, on_epoch=False, logger=True, prog_bar=True)\n",
    "        self.log('val_acc_10', acc[10], on_step=True, on_epoch=False, logger=True, prog_bar=True)\n",
    "        self.log('val_acc_12', acc[12], on_step=True, on_epoch=False, logger=True, prog_bar=True)\n",
    "        self.log('val_acc_13', acc[13], on_step=True, on_epoch=False, logger=True, prog_bar=True)\n",
    "\n",
    "    def optimizer_step(self, epoch, batch_idx, optimizer, optimizer_closure, **kwargs):\n",
    "        # 调用优化器的step方法前执行自定义操作\n",
    "        # 比如实现学习率热启动\n",
    "        if self.trainer.global_step < 50:\n",
    "            lr_scale = min(1.0, float(self.trainer.global_step + 1) / 50)\n",
    "            for pg in optimizer.param_groups:\n",
    "                pg[\"lr\"] = lr_scale * self.hparams.learning_rate\n",
    "        # 调用优化器的step方法来更新模型参数\n",
    "        optimizer.step(closure=optimizer_closure)\n",
    "\n",
    "    def configure_optimizers(self):\n",
    "        optimizer = torch.optim.Adam(self.parameters(), lr=self.hparams.learning_rate)\n",
    "        #         scheduler = torch.optim.lr_scheduler.StepLR(optimizer, step_size=10, gamma=0.9, verbose=True)\n",
    "        scheduler = torch.optim.lr_scheduler.CosineAnnealingLR(optimizer, T_max=10, eta_min=0.000001, last_epoch=-1)\n",
    "        #         print(self.hparams.learning_rate)\n",
    "        return {\n",
    "            'optimizer': optimizer,\n",
    "            'lr_scheduler': {\n",
    "                'scheduler': scheduler,\n",
    "                'interval': 'epoch',  # 指定更新学习率的间隔单位为'epoch'\n",
    "                'frequency': 1,  # 每个epoch更新一次学习率\n",
    "            }\n",
    "        }"
   ],
   "metadata": {
    "_uuid": "ac36333a-0d4f-494b-a95c-889fc8ca64d9",
    "_cell_guid": "e855577b-fc8c-4409-b4d6-0f82ee37f1d3",
    "execution": {
     "iopub.status.busy": "2024-04-06T06:04:19.727307Z",
     "iopub.execute_input": "2024-04-06T06:04:19.727861Z",
     "iopub.status.idle": "2024-04-06T06:04:19.754407Z",
     "shell.execute_reply.started": "2024-04-06T06:04:19.727826Z",
     "shell.execute_reply": "2024-04-06T06:04:19.753354Z"
    },
    "trusted": true
   },
   "execution_count": null,
   "outputs": []
  },
  {
   "cell_type": "markdown",
   "source": [
    "# (Opt) Hyper Params Check"
   ],
   "metadata": {
    "_uuid": "7357d769-1c7b-4ae0-b717-68fe4d9524bc",
    "_cell_guid": "f00537a2-4837-4a41-94fe-819c9ce7b959",
    "trusted": true
   }
  },
  {
   "cell_type": "code",
   "source": [
    "from torchinfo import summary\n",
    "\n",
    "model = UNetTestModel()\n",
    "print(summary(model, input_size=(1, 1, 256, 256)))\n"
   ],
   "metadata": {
    "_uuid": "54a3656f-6ee2-41bb-92cc-2f278e3ed7d7",
    "_cell_guid": "e6d612dd-14b3-4d64-960e-78b581b1d7e3",
    "scrolled": true,
    "execution": {
     "iopub.status.busy": "2024-04-06T06:02:50.918169Z",
     "iopub.execute_input": "2024-04-06T06:02:50.918548Z",
     "iopub.status.idle": "2024-04-06T06:02:53.170436Z",
     "shell.execute_reply.started": "2024-04-06T06:02:50.918519Z",
     "shell.execute_reply": "2024-04-06T06:02:53.169522Z"
    },
    "collapsed": true,
    "jupyter": {
     "outputs_hidden": true
    },
    "trusted": true
   },
   "execution_count": null,
   "outputs": []
  },
  {
   "cell_type": "code",
   "outputs": [],
   "source": [
    "print(model.hparams)\n",
    "# def print_model_details(model, indent=0):\n",
    "#     for name, child in model.named_children():\n",
    "#         print(\" \" * indent, name, child)\n",
    "#         print_model_details(child, indent+4)\n",
    "\n",
    "# print_model_details(model)"
   ],
   "metadata": {
    "collapsed": false
   }
  },
  {
   "cell_type": "code",
   "source": [
    "# !pip install torchviz\n",
    "\n",
    "# from torchviz import make_dot\n",
    "\n",
    "# x = torch.randn(1, 1, 256, 256)  # 生成一个随机输入\n",
    "# y = model(x)\n",
    "# make_dot(y, params=dict(list(model.named_parameters()))).render(\"unet_model\", format=\"png\")\n"
   ],
   "metadata": {
    "execution": {
     "iopub.status.busy": "2024-04-04T05:56:00.287941Z",
     "iopub.execute_input": "2024-04-04T05:56:00.288555Z",
     "iopub.status.idle": "2024-04-04T05:56:29.74728Z",
     "shell.execute_reply.started": "2024-04-04T05:56:00.288505Z",
     "shell.execute_reply": "2024-04-04T05:56:29.746173Z"
    },
    "collapsed": true,
    "jupyter": {
     "outputs_hidden": true
    },
    "trusted": true
   },
   "execution_count": null,
   "outputs": []
  },
  {
   "cell_type": "markdown",
   "source": [
    "# (Opt) Pre-Train Test"
   ],
   "metadata": {
    "_uuid": "7e5a9389-57b6-4a07-b428-b41fcc987525",
    "_cell_guid": "de47c7ee-1eee-4ee1-93f6-d6b43df86981",
    "trusted": true
   }
  },
  {
   "cell_type": "code",
   "source": [
    "data_module = MOADataModule(data_dir=data_dir, batch_size=1)\n",
    "# avail test\n",
    "model = UNetTestModel()\n",
    "lr_monitor = LearningRateMonitor(logging_interval='step')\n",
    "############################################## fastrun ###################################################\n",
    "trainer = pl.Trainer(max_epochs=20,\n",
    "                     fast_dev_run=True,\n",
    "                     #                      callbacks=[lr_monitor, ValidationCallback()],\n",
    "                     #                      check_val_every_n_epoch=10, \n",
    "                     )\n",
    "trainer.fit(model, datamodule=data_module)"
   ],
   "metadata": {
    "_uuid": "3c026544-ec35-408c-9c4a-8840ba0d8202",
    "_cell_guid": "37e59d03-78db-479e-954e-7e8fb28a80a3",
    "execution": {
     "iopub.status.busy": "2024-04-06T06:04:30.47821Z",
     "iopub.execute_input": "2024-04-06T06:04:30.47894Z",
     "iopub.status.idle": "2024-04-06T06:04:32.844475Z",
     "shell.execute_reply.started": "2024-04-06T06:04:30.478902Z",
     "shell.execute_reply": "2024-04-06T06:04:32.843557Z"
    },
    "trusted": true
   },
   "execution_count": null,
   "outputs": []
  },
  {
   "cell_type": "code",
   "source": [
    "data_module = MOADataModule(data_dir=data_dir, batch_size=1)\n",
    "# learnability test\n",
    "wandb_logger_test = WandbLogger()\n",
    "# # 初始化Trainer，设置overfit_batches来过拟合一小部分数据\n",
    "# lr_monitor = LearningRateMonitor(logging_interval='step')\n",
    "test_trainer = pl.Trainer(overfit_batches=1,\n",
    "                          logger=wandb_logger_test,\n",
    "                          #                           callbacks=[lr_monitor, ValidationCallback()], \n",
    "                          check_val_every_n_epoch=1)\n",
    "\n",
    "# # 或者，使用10个批次的数据来过拟合\n",
    "# test_trainer = pl.Trainer(overfit_batches=10, logger=wandb_logger_test)\n"
   ],
   "metadata": {
    "_uuid": "273bd454-c583-441a-8b86-d5b109f13028",
    "_cell_guid": "4417d2cf-aade-490c-9cf2-4aed7f9bb6f0",
    "execution": {
     "iopub.status.busy": "2024-04-03T08:09:24.646722Z",
     "iopub.execute_input": "2024-04-03T08:09:24.647589Z",
     "iopub.status.idle": "2024-04-03T08:10:22.60761Z",
     "shell.execute_reply.started": "2024-04-03T08:09:24.647554Z",
     "shell.execute_reply": "2024-04-03T08:10:22.606497Z"
    },
    "trusted": true
   },
   "execution_count": null,
   "outputs": []
  },
  {
   "cell_type": "markdown",
   "source": [
    "### type your api¶"
   ],
   "metadata": {
    "collapsed": false
   }
  },
  {
   "cell_type": "code",
   "outputs": [],
   "source": [
    "wandb_logger = WandbLogger(project='lightning_logs')"
   ],
   "metadata": {
    "collapsed": false
   }
  },
  {
   "cell_type": "code",
   "outputs": [],
   "source": [
    "from kaggle_secrets import UserSecretsClient\n",
    "\n",
    "user_secrets = UserSecretsClient()\n",
    "secret_value_0 = user_secrets.get_secret(\"wandb_key\")\n",
    "\n",
    "wandb.login(key=secret_value_0)\n",
    "# notes = f'steeldefectdetection:{path}'\n",
    "wandb.init(\n",
    "    project=\"lightning_logs\",\n",
    "    name=\"run11\",\n",
    "    entity=\"team-mykcs\"\n",
    ")"
   ],
   "metadata": {
    "collapsed": false
   }
  },
  {
   "cell_type": "code",
   "outputs": [],
   "source": [
    "# 运行训练\n",
    "test_trainer.fit(model, datamodule=data_module)\n"
   ],
   "metadata": {
    "collapsed": false
   }
  },
  {
   "cell_type": "code",
   "outputs": [],
   "source": [
    "wandb.finish()"
   ],
   "metadata": {
    "collapsed": false
   }
  },
  {
   "cell_type": "markdown",
   "source": [
    "# Sweeps"
   ],
   "metadata": {}
  },
  {
   "cell_type": "code",
   "source": [
    "sweep_config = {\n",
    "    'method': 'random',\n",
    "    'metric': {\n",
    "        'name': 'val_loss',\n",
    "        'goal': 'minimize'},\n",
    "    'parameters': {\n",
    "        'learning_rate': {\n",
    "            'min': 0.0001,\n",
    "            'max': 0.1},\n",
    "        'batch_size': {\n",
    "            'values': [16, 32, 64]}\n",
    "    }\n",
    "}\n"
   ],
   "metadata": {
    "execution": {
     "iopub.status.busy": "2024-03-31T04:44:01.362615Z",
     "iopub.execute_input": "2024-03-31T04:44:01.36358Z",
     "iopub.status.idle": "2024-03-31T04:45:17.412101Z",
     "shell.execute_reply.started": "2024-03-31T04:44:01.363541Z",
     "shell.execute_reply": "2024-03-31T04:45:17.410888Z"
    },
    "trusted": true
   },
   "execution_count": null,
   "outputs": []
  },
  {
   "cell_type": "code",
   "outputs": [],
   "source": [
    "wandb_logger = WandbLogger()\n",
    "sweep_id = wandb.sweep(sweep_config, project=\"test-sweeps11\")\n",
    "lr_monitor = LearningRateMonitor(logging_interval='step')\n",
    "\n",
    "\n",
    "def sweep_train():\n",
    "    with wandb.init() as run:\n",
    "        config = wandb.config\n",
    "        model = UNetTestModel(\n",
    "            learning_rate=config.learning_rate,\n",
    "            #             batch_size=config.batch_size,\n",
    "            # 其他参数...\n",
    "        )\n",
    "        trainer = pl.Trainer(\n",
    "            max_epochs=150,\n",
    "            callbacks=[lr_monitor, ValidationCallback()],\n",
    "            logger=wandb_logger,\n",
    "            #             check_val_every_n_epoch=10,\n",
    "            # 其他设置...\n",
    "        )\n",
    "        data_module = MOADataModule(data_dir=data_dir, batch_size=config.batch_size)\n",
    "        trainer.fit(model, datamodule=data_module)\n",
    "\n",
    "\n",
    "wandb.agent(sweep_id, function=sweep_train, count=10)\n"
   ],
   "metadata": {
    "collapsed": false
   }
  },
  {
   "cell_type": "markdown",
   "source": [
    "# Lightning Style Formal Test"
   ],
   "metadata": {
    "_uuid": "8aa9f836-18b6-4afe-8a97-02aa78f1c528",
    "_cell_guid": "db51d23f-6157-4418-9399-1403d782d90e",
    "trusted": true
   }
  },
  {
   "cell_type": "code",
   "outputs": [],
   "source": [
    "lr_monitor = LearningRateMonitor(logging_interval='step')\n",
    "# 假设你已经定义了 LiTSDataModule\n",
    "data_module = MOADataModule(data_dir=data_dir, batch_size=32)\n",
    "# 初始化模型和训练器\n",
    "model = UNetTestModel()\n",
    "\n",
    "# wandb_logger = WandbLogger(project=\"SMU MOA\", name=\"ResUNetPP50_monaiDiceCELoss_Max150\")\n",
    "wandb_logger = WandbLogger(project=\"UNet_Compare\", name=\"ResUNet_Max250_DiceCELoss_Baseline\")\n",
    "# wandb_logger = WandbLogger()\n",
    "\n",
    "\n",
    "trainer = Trainer(max_epochs=250,\n",
    "                  #                      fast_dev_run=True, \n",
    "                  logger=wandb_logger,\n",
    "                  callbacks=[lr_monitor, ValidationCallback()],\n",
    "                  #                   callbacks=[lr_monitor],\n",
    "                  log_every_n_steps=1,\n",
    "                  check_val_every_n_epoch=1,\n",
    "                  #                   precision='16-mixed',\n",
    "                  )"
   ],
   "metadata": {
    "collapsed": false
   }
  },
  {
   "cell_type": "code",
   "outputs": [],
   "source": [
    "# 创建 Tuner 对象并运行学习率查找\n",
    "# tuner = Tuner(trainer)\n",
    "# lr_finder = tuner.lr_find(model, datamodule=data_module)\n",
    "\n",
    "# # 可视化找到的学习率\n",
    "# fig = lr_finder.plot(suggest=True)\n",
    "# display(fig)\n",
    "\n",
    "# # 将建议的学习率设置给模型\n",
    "# new_lr = lr_finder.suggestion()\n",
    "# model.hparams.learning_rate = new_lr\n",
    "\n",
    "\n",
    "# 注意：在此处，你不需要手动更新 DataLoader 的批量大小\n",
    "# 因为 tuner.scale_batch_size 方法已经更新了 LiTSDataModule 中的 batch_size\n",
    "# 你可以检查更新后的批量大小\n",
    "# tuner.scale_batch_size(model, datamodule=data_module, mode=\"power\")\n",
    "# print(f\"Updated batch size: {data_module.batch_size}\")\n"
   ],
   "metadata": {
    "collapsed": false
   }
  },
  {
   "cell_type": "code",
   "outputs": [],
   "source": [
    "# 使用更新后的学习率继续训练\n",
    "trainer.fit(model, datamodule=data_module)"
   ],
   "metadata": {
    "collapsed": false
   }
  },
  {
   "cell_type": "code",
   "outputs": [],
   "source": [
    "##################################################### EVA ###################################################\n",
    "# 确保模型处于评估模式\n",
    "model.eval()\n",
    "print(\"eval activated\")"
   ],
   "metadata": {
    "collapsed": false
   }
  },
  {
   "cell_type": "code",
   "source": [
    "def predict_and_log_images(num_samples=2):\n",
    "    # 假设 test_loader 和 model 已经定义好了，并且 model 已经移动到了适当的设备\n",
    "    device = torch.device(\"cuda\" if torch.cuda.is_available() else \"cpu\")\n",
    "    model.to(device)\n",
    "    test_loader = data_module.test_dataloader()\n",
    "\n",
    "    # 生成随机索引\n",
    "    indices = torch.randperm(len(test_loader.dataset))[:num_samples]\n",
    "    # 调整subplot的大小\n",
    "    fig, axs = plt.subplots(num_samples, 3, figsize=(15, 5 * num_samples))  # 每个样本显示3张图（原图、真实掩码、预测掩码）\n",
    "\n",
    "    for i, idx in enumerate(indices):\n",
    "        image, mask = test_loader.dataset[idx]\n",
    "        image = image.unsqueeze(0).to(device)  # 添加batch维度并移动到设备\n",
    "        mask = mask.squeeze()  # 移除batch维度（如果有的话）\n",
    "\n",
    "        with torch.no_grad():\n",
    "            pred = model(image)\n",
    "            prediction = torch.argmax(pred, dim=1).cpu()  # 获取预测类别并移回CPU\n",
    "\n",
    "        # 显示原始图像\n",
    "        axs[i, 0].imshow(image.squeeze().cpu().numpy(), cmap='gray')\n",
    "        axs[i, 0].set_title(f'Original Image {i + 1}')\n",
    "        axs[i, 0].axis('off')\n",
    "\n",
    "        # 显示Ground Truth\n",
    "        axs[i, 1].imshow(mask.cpu().numpy(), cmap='viridis')\n",
    "        axs[i, 1].set_title(f'True Mask {i + 1}')\n",
    "        axs[i, 1].axis('off')\n",
    "\n",
    "        # 显示预测掩码\n",
    "        axs[i, 2].imshow(prediction[0].numpy(), cmap='viridis')\n",
    "        axs[i, 2].set_title(f'Predicted Mask {i + 1}')\n",
    "        axs[i, 2].axis('off')\n",
    "\n",
    "    plt.tight_layout()\n",
    "    plt.close(fig)  # 防止在notebook中显示图像\n",
    "    return fig\n"
   ],
   "metadata": {
    "_uuid": "0049db84-14fe-45a1-aef2-75921b97a7c0",
    "_cell_guid": "02f8ebdf-9845-4e4b-9439-0fbefbf50fbd",
    "collapsed": false,
    "trusted": true
   },
   "execution_count": null,
   "outputs": []
  },
  {
   "cell_type": "code",
   "outputs": [],
   "source": [
    "# 循环十次，每次都记录图像\n",
    "for _ in range(10):\n",
    "    fig = predict_and_log_images(num_samples=2)\n",
    "    wandb.log({\"Predicted Images\": wandb.Image(fig)})\n"
   ],
   "metadata": {
    "collapsed": false
   }
  },
  {
   "cell_type": "code",
   "source": [
    "def predict_and_log_images(num_samples=2):\n",
    "    # 假设 test_loader 和 model 已经定义好了，并且 model 已经移动到了适当的设备\n",
    "    device = torch.device(\"cuda\" if torch.cuda.is_available() else \"cpu\")\n",
    "    model.to(device)\n",
    "    test_loader = data_module.test_dataloader()\n",
    "\n",
    "    # 生成随机索引\n",
    "    indices = torch.randperm(len(test_loader.dataset))[:num_samples]\n",
    "    # 调整subplot的大小\n",
    "    fig, axs = plt.subplots(num_samples, 3, figsize=(15, 5 * num_samples))  # 每个样本显示3张图（原图、真实掩码、预测掩码）\n",
    "\n",
    "    for i, idx in enumerate(indices):\n",
    "        image, mask = test_loader.dataset[idx]\n",
    "        image = image.unsqueeze(0).to(device)  # 添加batch维度并移动到设备\n",
    "        mask = mask.squeeze()  # 移除batch维度（如果有的话）\n",
    "\n",
    "        with torch.no_grad():\n",
    "            pred = model(image)\n",
    "            prediction = torch.argmax(pred, dim=1).cpu()  # 获取预测类别并移回CPU\n",
    "\n",
    "        # 显示原始图像\n",
    "        axs[i, 0].imshow(image.squeeze().cpu().numpy(), cmap='gray')\n",
    "        axs[i, 0].set_title(f'Original Image {i + 1}')\n",
    "        axs[i, 0].axis('off')\n",
    "\n",
    "        # 显示Ground Truth\n",
    "        axs[i, 1].imshow(mask.cpu().numpy(), cmap='viridis')\n",
    "        axs[i, 1].set_title(f'True Mask {i + 1}')\n",
    "        axs[i, 1].axis('off')\n",
    "\n",
    "        # 显示预测掩码\n",
    "        axs[i, 2].imshow(prediction[0].numpy(), cmap='viridis')\n",
    "        axs[i, 2].set_title(f'Predicted Mask {i + 1}')\n",
    "        axs[i, 2].axis('off')\n",
    "\n",
    "    plt.tight_layout()\n",
    "    plt.close(fig)  # 防止在notebook中显示图像\n",
    "    return fig\n",
    "\n",
    "\n",
    "# 循环十次，每次都记录图像\n",
    "for _ in range(10):\n",
    "    fig = predict_and_log_images(num_samples=2)\n",
    "    wandb.log({\"Predicted Images\": wandb.Image(fig)})"
   ],
   "metadata": {
    "_uuid": "ca2de490-a6d3-442b-ae6f-6ec9c9ed6d70",
    "_cell_guid": "b7ef133e-78ff-4942-b372-18d4909f3531",
    "collapsed": false,
    "execution": {
     "iopub.status.busy": "2024-04-06T08:45:45.770376Z",
     "iopub.execute_input": "2024-04-06T08:45:45.771031Z",
     "iopub.status.idle": "2024-04-06T08:45:56.670418Z",
     "shell.execute_reply.started": "2024-04-06T08:45:45.770988Z",
     "shell.execute_reply": "2024-04-06T08:45:56.669301Z"
    },
    "trusted": true
   },
   "execution_count": null,
   "outputs": []
  },
  {
   "cell_type": "code",
   "source": [
    "trainer.validate(dataloaders=data_module.val_dataloader())"
   ],
   "metadata": {
    "_uuid": "3b5689d1-ff8c-4930-88fa-c9dfa38f5195",
    "_cell_guid": "5725cdac-948a-4953-8a35-18186f67bdb1",
    "collapsed": false,
    "execution": {
     "iopub.status.busy": "2024-04-06T08:46:32.971928Z",
     "iopub.execute_input": "2024-04-06T08:46:32.973027Z",
     "iopub.status.idle": "2024-04-06T08:46:35.509535Z",
     "shell.execute_reply.started": "2024-04-06T08:46:32.972976Z",
     "shell.execute_reply": "2024-04-06T08:46:35.508711Z"
    },
    "trusted": true
   },
   "execution_count": null,
   "outputs": []
  },
  {
   "cell_type": "code",
   "source": [
    "import os\n",
    "\n",
    "# 指定目录路径\n",
    "directory_path = '/kaggle/working/UNet_Compare/eau6br38/checkpoints/'\n",
    "\n",
    "# 检查目录是否存在\n",
    "if os.path.exists(directory_path):\n",
    "    # 列出目录中的文件\n",
    "    files = os.listdir(directory_path)\n",
    "    print(\"Files in directory:\")\n",
    "    for file in files:\n",
    "        print(file)\n",
    "else:\n",
    "    print(f\"Directory {directory_path} does not exist.\")\n"
   ],
   "metadata": {
    "execution": {
     "iopub.status.busy": "2024-04-06T08:52:33.792976Z",
     "iopub.execute_input": "2024-04-06T08:52:33.793795Z",
     "iopub.status.idle": "2024-04-06T08:52:33.801837Z",
     "shell.execute_reply.started": "2024-04-06T08:52:33.793743Z",
     "shell.execute_reply": "2024-04-06T08:52:33.800769Z"
    },
    "trusted": true
   },
   "execution_count": null,
   "outputs": []
  },
  {
   "cell_type": "code",
   "source": [
    "# 创建一个新的Artifact，指定其类型为'model'和Artifact的名称\n",
    "artifact = wandb.Artifact('ResUNet_Max250_DiceCELoss_Baseline', type='model')\n",
    "artifact.add_file('/kaggle/working/UNet_Compare/eau6br38/checkpoints/epoch=249-step=8250.ckpt')\n",
    "\n",
    "# 保存Artifact到wandb\n",
    "wandb.log_artifact(artifact)"
   ],
   "metadata": {
    "_uuid": "51fc1ba5-2cb0-4d6c-9869-a2818e01d7a2",
    "_cell_guid": "ddb49941-070c-4aba-8d7b-d77746b33eea",
    "collapsed": false,
    "execution": {
     "iopub.status.busy": "2024-04-06T08:53:38.703316Z",
     "iopub.execute_input": "2024-04-06T08:53:38.70407Z",
     "iopub.status.idle": "2024-04-06T08:53:40.314648Z",
     "shell.execute_reply.started": "2024-04-06T08:53:38.704038Z",
     "shell.execute_reply": "2024-04-06T08:53:40.313541Z"
    },
    "trusted": true
   },
   "execution_count": null,
   "outputs": []
  },
  {
   "cell_type": "code",
   "source": [
    "artifact_dir = WandbLogger.download_artifact(artifact=\"mykcs/UNet_Compare/ResUNet_Max250_DiceCELoss_Baseline:v0\")"
   ],
   "metadata": {
    "execution": {
     "iopub.status.busy": "2024-04-06T09:04:57.289498Z",
     "iopub.execute_input": "2024-04-06T09:04:57.290392Z",
     "iopub.status.idle": "2024-04-06T09:04:58.257282Z",
     "shell.execute_reply.started": "2024-04-06T09:04:57.290357Z",
     "shell.execute_reply": "2024-04-06T09:04:58.256367Z"
    },
    "trusted": true
   },
   "execution_count": null,
   "outputs": []
  },
  {
   "cell_type": "code",
   "source": [
    "model_ckpt = UNetTestModel.load_from_checkpoint(\n",
    "    '/kaggle/working/artifacts/ResUNet_Max250_DiceCELoss_Baseline:v0/epoch=249-step=8250.ckpt')\n",
    "# 确保模型处于评估模式\n",
    "model_ckpt.eval()\n",
    "print(\"model_ckpt eval activated\")\n",
    "\n",
    "\n"
   ],
   "metadata": {
    "execution": {
     "iopub.status.busy": "2024-04-06T09:10:36.744916Z",
     "iopub.execute_input": "2024-04-06T09:10:36.74562Z",
     "iopub.status.idle": "2024-04-06T09:10:49.453895Z",
     "shell.execute_reply.started": "2024-04-06T09:10:36.745586Z",
     "shell.execute_reply": "2024-04-06T09:10:49.452756Z"
    },
    "trusted": true
   },
   "execution_count": null,
   "outputs": []
  },
  {
   "cell_type": "code",
   "outputs": [],
   "source": [
    "def predict_and_log_images(num_samples=2):\n",
    "    # 假设 test_loader 和 model 已经定义好了，并且 model 已经移动到了适当的设备\n",
    "    device = torch.device(\"cuda\" if torch.cuda.is_available() else \"cpu\")\n",
    "    model_ckpt.to(device)\n",
    "    test_loader = data_module.test_dataloader()\n",
    "\n",
    "    # 生成随机索引\n",
    "    indices = torch.randperm(len(test_loader.dataset))[:num_samples]\n",
    "    # 调整subplot的大小\n",
    "    fig, axs = plt.subplots(num_samples, 3, figsize=(15, 5 * num_samples))  # 每个样本显示3张图（原图、真实掩码、预测掩码）\n",
    "\n",
    "    for i, idx in enumerate(indices):\n",
    "        image, mask = test_loader.dataset[idx]\n",
    "        image = image.unsqueeze(0).to(device)  # 添加batch维度并移动到设备\n",
    "        mask = mask.squeeze()  # 移除batch维度（如果有的话）\n",
    "\n",
    "        with torch.no_grad():\n",
    "            pred = model_ckpt(image)\n",
    "            prediction = torch.argmax(pred, dim=1).cpu()  # 获取预测类别并移回CPU\n",
    "\n",
    "        # 显示原始图像\n",
    "        axs[i, 0].imshow(image.squeeze().cpu().numpy(), cmap='gray')\n",
    "        axs[i, 0].set_title(f'Original Image {i + 1}')\n",
    "        axs[i, 0].axis('off')\n",
    "\n",
    "        # 显示Ground Truth\n",
    "        axs[i, 1].imshow(mask.cpu().numpy(), cmap='viridis')\n",
    "        axs[i, 1].set_title(f'True Mask {i + 1}')\n",
    "        axs[i, 1].axis('off')\n",
    "\n",
    "        # 显示预测掩码\n",
    "        axs[i, 2].imshow(prediction[0].numpy(), cmap='viridis')\n",
    "        axs[i, 2].set_title(f'Predicted Mask {i + 1}')\n",
    "        axs[i, 2].axis('off')\n",
    "\n",
    "    plt.tight_layout()\n",
    "    plt.close(fig)  # 防止在notebook中显示图像\n",
    "    return fig\n",
    "\n",
    "# 循环十次，每次都记录图像\n",
    "for _ in range(10):\n",
    "    fig = predict_and_log_images(num_samples=2)\n",
    "    wandb.log({\"Predicted Images by Chcekpoint\": wandb.Image(fig)})"
   ],
   "metadata": {
    "collapsed": false
   }
  },
  {
   "cell_type": "markdown",
   "source": [
    "# Finally we go finetune on aug dataset"
   ],
   "metadata": {}
  },
  {
   "cell_type": "code",
   "source": [
    "wandb.login()"
   ],
   "metadata": {
    "execution": {
     "iopub.status.busy": "2024-04-06T10:43:17.023052Z",
     "iopub.execute_input": "2024-04-06T10:43:17.024243Z",
     "iopub.status.idle": "2024-04-06T10:43:25.261972Z",
     "shell.execute_reply.started": "2024-04-06T10:43:17.024207Z",
     "shell.execute_reply": "2024-04-06T10:43:25.261047Z"
    },
    "trusted": true
   },
   "execution_count": null,
   "outputs": []
  },
  {
   "cell_type": "code",
   "source": [
    "############################# SET KEY VALUE RIGHT (arr_0 to image or mask)################################\n",
    "# 定义数据增强\n",
    "train_transform_for_aug = A.Compose([\n",
    "    A.Resize(256, 256),\n",
    "    A.HorizontalFlip(p=0.5),\n",
    "    A.VerticalFlip(p=0.5),\n",
    "    A.RandomRotate90(),\n",
    "    #     A.RandomBrightnessContrast(p=0.2),\n",
    "    A.ElasticTransform(p=0.2, alpha=120, sigma=120 * 0.3, alpha_affine=120 * 0.2),\n",
    "    A.RandomSizedCrop(min_max_height=(128, 256), height=256, width=256, p=0.2),\n",
    "    # A.Normalize(mean=(0.5,), std=(0.5,)),\n",
    "    ToTensorV2(),\n",
    "])\n",
    "\n",
    "val_transform_for_aug = A.Compose([\n",
    "    A.Resize(256, 256),\n",
    "    # A.Normalize(mean=(0.5,), std=(0.5,)),\n",
    "    ToTensorV2(),\n",
    "])\n",
    "\n",
    "\n",
    "def adjust_window(image, window_center, window_width):\n",
    "    \"\"\"\n",
    "    调整CT图像的窗宽窗位。\n",
    "    :param image: 输入的图像数组。\n",
    "    :param window_center: 窗位（WC）。\n",
    "    :param window_width: 窗宽（WW）。\n",
    "    :return: 调整窗宽窗位后的图像。\n",
    "    \"\"\"\n",
    "    img_min = window_center - window_width // 2\n",
    "    img_max = window_center + window_width // 2\n",
    "    windowed_img = np.clip(image, img_min, img_max)\n",
    "    # print(windowed_img.dtype) # NOW its float64\n",
    "    return windowed_img\n",
    "\n",
    "\n",
    "class MultipleImageDataset(Dataset):\n",
    "    def __init__(self, image_paths, label_paths, transform=None):\n",
    "        \"\"\"\n",
    "        image_paths: 图像文件路径列表\n",
    "        label_paths: 标签文件路径列表\n",
    "        transform: 应用于图像和标签的转换操作\n",
    "        \"\"\"\n",
    "        self.image_paths = image_paths\n",
    "        self.label_paths = label_paths\n",
    "        self.transform = transform\n",
    "\n",
    "    def __len__(self):\n",
    "        # 假设图像和标签列表长度相等\n",
    "        return len(self.image_paths)\n",
    "\n",
    "    def __getitem__(self, idx):  # dataloader获取每个数据都会用到这个函数，所以你应当在这里实现你需要的\n",
    "        # 预处理等等步骤\n",
    "        image = (np.load(self.image_paths[idx]))['image']\n",
    "        #         print(image.shape)\n",
    "        label = (np.load(self.label_paths[idx]))['mask']\n",
    "        #         print(label.shape)\n",
    "\n",
    "        image = adjust_window(image, window_center=40, window_width=400)\n",
    "\n",
    "        if self.transform:\n",
    "            #             image = image.astype(np.float32)\n",
    "            augmented = self.transform(image=image, mask=label)\n",
    "            image = augmented['image']\n",
    "            #             print(\"image aug\")\n",
    "            label = augmented['mask']\n",
    "            image = image.float()\n",
    "            label = label.long()\n",
    "\n",
    "        label = label.long()\n",
    "        image = (image - image.min()) / (image.max() - image.min())\n",
    "        return image.float(), label.long()\n",
    "\n",
    "\n",
    "######################################################################################################################\n",
    "class MOADataModule(LightningDataModule):\n",
    "    def __init__(self, data_dir: str, batch_size: int = 16):\n",
    "        super().__init__()\n",
    "        self.data_dir = data_dir\n",
    "        self.batch_size = batch_size\n",
    "        self.train_transform = train_transform_for_aug\n",
    "        self.val_transform = val_transform_for_aug\n",
    "\n",
    "    def setup(self, stage=None):\n",
    "        image_dir = os.path.join(self.data_dir, 'image_npz')  # 注意这里路径的更正\n",
    "        label_dir = os.path.join(self.data_dir, 'mask_npz')\n",
    "\n",
    "        # 读取文件路径\n",
    "        image_files = sorted([os.path.join(image_dir, f) for f in os.listdir(image_dir) if f.endswith('.npz')])\n",
    "        label_files = sorted([os.path.join(label_dir, f) for f in os.listdir(label_dir) if f.endswith('.npz')])\n",
    "\n",
    "        # 划分训练集、验证集、测试集\n",
    "        train_size = int(0.9 * len(image_files))\n",
    "        val_size = int(0.08 * len(image_files))\n",
    "\n",
    "        self.train_image_paths = image_files[:train_size]\n",
    "        self.val_image_paths = image_files[train_size:train_size + val_size]\n",
    "        self.test_image_paths = image_files[train_size + val_size:]\n",
    "\n",
    "        self.train_label_paths = label_files[:train_size]\n",
    "        self.val_label_paths = label_files[train_size:train_size + val_size]\n",
    "        self.test_label_paths = label_files[train_size + val_size:]\n",
    "\n",
    "    def train_dataloader(self):\n",
    "        train_dataset = MultipleImageDataset(self.train_image_paths, self.train_label_paths,\n",
    "                                             transform=self.train_transform)\n",
    "        return DataLoader(train_dataset, batch_size=self.batch_size, shuffle=True, num_workers=4, pin_memory=True)\n",
    "\n",
    "    def val_dataloader(self):\n",
    "        val_dataset = MultipleImageDataset(self.val_image_paths, self.val_label_paths, transform=self.val_transform)\n",
    "        return DataLoader(val_dataset, batch_size=self.batch_size, shuffle=False, num_workers=2, pin_memory=True)\n",
    "\n",
    "    def test_dataloader(self):\n",
    "        test_dataset = MultipleImageDataset(self.test_image_paths, self.test_label_paths, transform=self.val_transform)\n",
    "        return DataLoader(test_dataset, batch_size=self.batch_size, shuffle=False, num_workers=2, pin_memory=True)\n",
    "\n",
    "\n",
    "######################################################################################################################\n",
    "class UNetTestModel(pl.LightningModule, HyperparametersMixin):\n",
    "    def __init__(\n",
    "            self,\n",
    "            encoder_name='resnet50',\n",
    "            encoder_weights='imagenet',\n",
    "            in_channels=1,\n",
    "            classes=14,\n",
    "            #         loss_fn=monai.losses.FocalLoss(use_softmax=True, to_onehot_y=True, include_background=False),\n",
    "            #         loss_fn=monai.losses.DiceCELoss(softmax=True, lambda_dice=0.85, lambda_ce=0.15, to_onehot_y=True, include_background=True),\n",
    "            loss_fn=monai.losses.DiceFocalLoss(softmax=True, lambda_dice=0.6, gamma=2.3, lambda_focal=0.4,\n",
    "                                               to_onehot_y=True),\n",
    "\n",
    "            #         loss_fn=monai.losses.DiceLoss( to_onehot_y=True),\n",
    "            loss_function='DiceCELoss',\n",
    "            learning_rate=3e-3,\n",
    "    ):\n",
    "        super().__init__()\n",
    "        self.save_hyperparameters()\n",
    "        ###################### model #########################\n",
    "        self.model = smp.Unet(\n",
    "            encoder_name=encoder_name,\n",
    "            encoder_weights=encoder_weights,\n",
    "            in_channels=in_channels,\n",
    "            classes=classes,\n",
    "            #             decoder_attention_type='scse',\n",
    "        )\n",
    "        ###################### loss ##########################\n",
    "        self.loss_fn = loss_fn\n",
    "        ###################### metrics ######################\n",
    "        #         self.train_accuracy = torchmetrics.classification.Accuracy(task=\"multiclass\", num_classes=classes, average='micro', ignore_index=0)\n",
    "        self.val_accuracy_MACRO = torchmetrics.classification.Accuracy(task=\"multiclass\", num_classes=classes,\n",
    "                                                                       average='macro', ignore_index=0)\n",
    "        self.val_accuracy_micro = torchmetrics.classification.Accuracy(task=\"multiclass\", num_classes=classes,\n",
    "                                                                       average='micro', ignore_index=0)\n",
    "        self.val_accuracy_classwise = torchmetrics.classification.Accuracy(task=\"multiclass\", num_classes=classes,\n",
    "                                                                           average='none', ignore_index=0)\n",
    "        self.Dice = torchmetrics.classification.Dice(multiclass=True, num_classes=classes, average='micro',\n",
    "                                                     ignore_index=0)\n",
    "        self.F1 = torchmetrics.classification.MulticlassF1Score(num_classes=classes, average=\"micro\", ignore_index=0)\n",
    "        self.Jaccard = torchmetrics.classification.MulticlassJaccardIndex(num_classes=classes, average=\"micro\",\n",
    "                                                                          ignore_index=0)\n",
    "\n",
    "    # 定义前向传播\n",
    "    def forward(self, x):\n",
    "        return self.model(x)\n",
    "\n",
    "    def training_step(self, batch, batch_idx):\n",
    "        images, labels = batch\n",
    "        outputs = self.forward(images)\n",
    "        loss = self.loss_fn(outputs, labels.unsqueeze(1))\n",
    "        self.log('train_loss', loss, on_step=True, on_epoch=False, logger=True, prog_bar=True)\n",
    "        return loss\n",
    "\n",
    "    def validation_step(self, batch, batch_idx):\n",
    "        images, labels = batch\n",
    "        outputs = self.forward(images)\n",
    "        loss = self.loss_fn(outputs, labels.unsqueeze(1))\n",
    "        preds = torch.argmax(outputs, dim=1)\n",
    "\n",
    "        #         print(labels_one_hot.shape)\n",
    "        acc_micro = self.val_accuracy_micro(preds, labels)\n",
    "        acc_MACRO = self.val_accuracy_MACRO(preds, labels)\n",
    "        Dice = self.Dice(preds, labels)\n",
    "        F1 = self.F1(preds, labels)\n",
    "        Jaccard = self.Jaccard(preds, labels)\n",
    "        acc = self.val_accuracy_classwise(preds, labels)\n",
    "\n",
    "        self.log('val_loss', loss, on_step=True, on_epoch=False, logger=True, prog_bar=True)\n",
    "        self.log('val_accuracy_micro', acc_micro, on_step=True, on_epoch=False, logger=True, prog_bar=True)\n",
    "        self.log('val_accuracy_MACRO', acc_MACRO, on_step=True, on_epoch=False, logger=True, prog_bar=True)\n",
    "        self.log('val_F1', F1, on_step=True, on_epoch=False, logger=True, prog_bar=True)\n",
    "        self.log('val_Dice', Dice, on_step=True, on_epoch=False, logger=True, prog_bar=True)\n",
    "        self.log('val_Jaccard', Jaccard, on_step=True, on_epoch=False, logger=True, prog_bar=True)\n",
    "\n",
    "        self.log('val_acc_4', acc[4], on_step=True, on_epoch=False, logger=True, prog_bar=True)\n",
    "        self.log('val_acc_5', acc[5], on_step=True, on_epoch=False, logger=True, prog_bar=True)\n",
    "        self.log('val_acc_10', acc[10], on_step=True, on_epoch=False, logger=True, prog_bar=True)\n",
    "        self.log('val_acc_12', acc[12], on_step=True, on_epoch=False, logger=True, prog_bar=True)\n",
    "        self.log('val_acc_13', acc[13], on_step=True, on_epoch=False, logger=True, prog_bar=True)\n",
    "\n",
    "    def optimizer_step(self, epoch, batch_idx, optimizer, optimizer_closure, **kwargs):\n",
    "        # 调用优化器的step方法前执行自定义操作\n",
    "        # 比如实现学习率热启动\n",
    "        if self.trainer.global_step < 100:\n",
    "            lr_scale = min(1.0, float(self.trainer.global_step + 1) / 100)\n",
    "            for pg in optimizer.param_groups:\n",
    "                pg[\"lr\"] = lr_scale * self.hparams.learning_rate\n",
    "        # 调用优化器的step方法来更新模型参数\n",
    "        optimizer.step(closure=optimizer_closure)\n",
    "\n",
    "    def configure_optimizers(self):\n",
    "        optimizer = torch.optim.Adam(self.parameters(), lr=self.hparams.learning_rate)\n",
    "        #         scheduler = torch.optim.lr_scheduler.StepLR(optimizer, step_size=10, gamma=0.9, verbose=True)\n",
    "        scheduler = torch.optim.lr_scheduler.CosineAnnealingLR(optimizer, T_max=5, eta_min=0.000001, last_epoch=-1)\n",
    "        #         print(self.hparams.learning_rate)\n",
    "        return {\n",
    "            'optimizer': optimizer,\n",
    "            'lr_scheduler': {\n",
    "                'scheduler': scheduler,\n",
    "                'interval': 'epoch',  # 指定更新学习率的间隔单位为'epoch'\n",
    "                'frequency': 1,  # 每个epoch更新一次学习率\n",
    "            }\n",
    "        }\n",
    "\n",
    "################################################# SET UP ################################################\n",
    "# 初始化数据模块\n",
    "data_module_ckpt = MOADataModule(data_dir='/kaggle/input/aug-dataset-for-fine-tune/AUG_Dataset', batch_size=1)\n",
    "\n",
    "# 设置数据模块（准备数据）\n",
    "data_module_ckpt.setup()\n",
    "\n",
    "\n",
    "################################################# CALL BACK #############################################\n",
    "def predict_and_log_images(num_samples=2):\n",
    "    # 假设 test_loader 和 model 已经定义好了，并且 model 已经移动到了适当的设备\n",
    "    device = torch.device(\"cuda\" if torch.cuda.is_available() else \"cpu\")\n",
    "    model_ckpt.to(device)\n",
    "    valid_loader = data_module_ckpt.val_dataloader()\n",
    "\n",
    "    # 生成随机索引\n",
    "    indices = torch.randperm(len(valid_loader.dataset))[:num_samples]\n",
    "    # 调整subplot的大小\n",
    "    fig, axs = plt.subplots(num_samples, 3, figsize=(15, 5 * num_samples))  # 每个样本显示3张图（原图、真实掩码、预测掩码）\n",
    "\n",
    "    for i, idx in enumerate(indices):\n",
    "        image, mask = valid_loader.dataset[idx]\n",
    "        image = image.unsqueeze(0).to(device)  # 添加batch维度并移动到设备\n",
    "        mask = mask.squeeze()  # 移除batch维度（如果有的话）\n",
    "\n",
    "        with torch.no_grad():\n",
    "            pred = model_ckpt(image)\n",
    "            prediction = torch.argmax(pred, dim=1).cpu()  # 获取预测类别并移回CPU\n",
    "\n",
    "        # 显示原始图像\n",
    "        axs[i, 0].imshow(image.squeeze().cpu().numpy(), cmap='gray')\n",
    "        axs[i, 0].set_title(f'Original Image {i + 1}')\n",
    "        axs[i, 0].axis('off')\n",
    "\n",
    "        # 显示Ground Truth\n",
    "        axs[i, 1].imshow(mask.cpu().numpy(), cmap='viridis')\n",
    "        axs[i, 1].set_title(f'True Mask {i + 1}')\n",
    "        axs[i, 1].axis('off')\n",
    "\n",
    "        # 显示预测掩码\n",
    "        axs[i, 2].imshow(prediction[0].numpy(), cmap='viridis')\n",
    "        axs[i, 2].set_title(f'Predicted Mask {i + 1}')\n",
    "        axs[i, 2].axis('off')\n",
    "\n",
    "    plt.tight_layout()\n",
    "    plt.close(fig)  # 防止在notebook中显示图像\n",
    "    return fig\n",
    "\n",
    "\n",
    "class ValidationCallback(Callback):\n",
    "    def on_validation_epoch_end(self, trainer, pl_module):\n",
    "        # 每2个epoch执行一次\n",
    "        if (trainer.current_epoch + 1) % 2 == 0:\n",
    "            fig = predict_and_log_images(num_samples=2)\n",
    "            # 用wandb记录图像，或进行其他操作\n",
    "            wandb.log({\"Validation Callback Predicted Images\": wandb.Image(fig)})"
   ],
   "metadata": {
    "execution": {
     "iopub.status.busy": "2024-04-06T11:03:59.666305Z",
     "iopub.execute_input": "2024-04-06T11:03:59.666677Z",
     "iopub.status.idle": "2024-04-06T11:03:59.733652Z",
     "shell.execute_reply.started": "2024-04-06T11:03:59.66664Z",
     "shell.execute_reply": "2024-04-06T11:03:59.732577Z"
    },
    "trusted": true
   },
   "execution_count": null,
   "outputs": []
  },
  {
   "cell_type": "code",
   "source": [
    "artifact_dir = WandbLogger.download_artifact(artifact=\"southern/UNet Compare/ResUNet_Max250_DiceCELoss_Baseline:v0\")"
   ],
   "metadata": {
    "execution": {
     "iopub.status.busy": "2024-04-06T10:53:07.407903Z",
     "iopub.execute_input": "2024-04-06T10:53:07.408274Z",
     "iopub.status.idle": "2024-04-06T10:53:08.687486Z",
     "shell.execute_reply.started": "2024-04-06T10:53:07.408245Z",
     "shell.execute_reply": "2024-04-06T10:53:08.686465Z"
    },
    "trusted": true
   },
   "execution_count": null,
   "outputs": []
  },
  {
   "cell_type": "code",
   "source": [
    "model_ckpt = UNetTestModel.load_from_checkpoint(\n",
    "    '/kaggle/working/artifacts/ResUNet_Max250_DiceCELoss_Baseline:v0/epoch=249-step=8250.ckpt')"
   ],
   "metadata": {
    "execution": {
     "iopub.status.busy": "2024-04-06T11:05:58.896323Z",
     "iopub.execute_input": "2024-04-06T11:05:58.897043Z",
     "iopub.status.idle": "2024-04-06T11:06:00.338788Z",
     "shell.execute_reply.started": "2024-04-06T11:05:58.897004Z",
     "shell.execute_reply": "2024-04-06T11:06:00.337658Z"
    },
    "trusted": true
   },
   "execution_count": null,
   "outputs": []
  },
  {
   "cell_type": "code",
   "source": [
    "# 初始化数据模块\n",
    "data_module_ckpt = MOADataModule(data_dir='/kaggle/input/aug-dataset-for-fine-tune/AUG_Dataset', batch_size=1)\n",
    "\n",
    "# 设置数据模块（准备数据）\n",
    "data_module_ckpt.setup()\n",
    "\n",
    "# 获取训练数据加载器\n",
    "train_loader_ckpt = data_module_ckpt.train_dataloader()\n",
    "valid_loader_ckpt = data_module_ckpt.val_dataloader()\n",
    "\n",
    "len(train_loader_ckpt), len(valid_loader_ckpt)"
   ],
   "metadata": {
    "execution": {
     "iopub.status.busy": "2024-04-06T11:06:01.378207Z",
     "iopub.execute_input": "2024-04-06T11:06:01.379252Z",
     "iopub.status.idle": "2024-04-06T11:06:01.400203Z",
     "shell.execute_reply.started": "2024-04-06T11:06:01.379219Z",
     "shell.execute_reply": "2024-04-06T11:06:01.399279Z"
    },
    "trusted": true
   },
   "execution_count": null,
   "outputs": []
  },
  {
   "cell_type": "code",
   "source": [
    "# 初始化数据模块\n",
    "data_module_ckpt = MOADataModule(data_dir='/kaggle/input/aug-dataset-for-fine-tune/AUG_Dataset', batch_size=16)\n",
    "\n",
    "# 设置数据模块（准备数据）\n",
    "data_module_ckpt.setup()\n",
    "\n",
    "# 获取训练数据加载器\n",
    "train_loader_ckpt = data_module_ckpt.train_dataloader()\n",
    "\n",
    "# 从数据加载器中抽取一批数据\n",
    "images, labels = next(iter(train_loader_ckpt))\n",
    "\n",
    "# 选择要展示的图像数量\n",
    "num_images_to_show = 4\n",
    "\n",
    "# 创建图表来展示图像和对应的掩码\n",
    "fig, axs = plt.subplots(num_images_to_show, 3, figsize=(15, num_images_to_show * 5))\n",
    "\n",
    "for i in range(num_images_to_show):\n",
    "    img = images[i].squeeze().numpy()  # 假设图像和掩码都只有一个通道\n",
    "    lbl = labels[i].squeeze().numpy()\n",
    "    overlay = np.ma.masked_where(lbl == 0, lbl)\n",
    "\n",
    "    axs[i, 0].imshow(img, cmap='gray')\n",
    "    axs[i, 0].set_title('Image')\n",
    "    axs[i, 0].axis('off')\n",
    "\n",
    "    axs[i, 1].imshow(lbl, cmap='gray')\n",
    "    axs[i, 1].set_title('Mask')\n",
    "    axs[i, 1].axis('off')\n",
    "\n",
    "    axs[i, 2].imshow(img, cmap='gray')\n",
    "    axs[i, 2].imshow(overlay, cmap='autumn', alpha=0.5)\n",
    "    axs[i, 2].set_title('Overlay')\n",
    "    axs[i, 2].axis('off')\n",
    "\n",
    "    print(f\"Image shape: {img.shape}\")\n",
    "    print(f\"Label shape: {lbl.shape}\")\n",
    "    print(f\"Image M&m Value: {img.max(), img.min()}\")\n",
    "    print(f\"Label Unique: {np.unique(lbl)}\")\n",
    "\n",
    "plt.tight_layout()\n",
    "plt.show()\n",
    "print('Show Time!')"
   ],
   "metadata": {
    "execution": {
     "iopub.status.busy": "2024-04-06T11:04:09.984258Z",
     "iopub.execute_input": "2024-04-06T11:04:09.984872Z",
     "iopub.status.idle": "2024-04-06T11:04:13.345414Z",
     "shell.execute_reply.started": "2024-04-06T11:04:09.98484Z",
     "shell.execute_reply": "2024-04-06T11:04:13.344262Z"
    },
    "trusted": true
   },
   "execution_count": null,
   "outputs": []
  },
  {
   "cell_type": "code",
   "source": [
    "lr_monitor = LearningRateMonitor(logging_interval='step')\n",
    "\n",
    "data_module_ckpt = MOADataModule(data_dir='/kaggle/input/aug-dataset-for-fine-tune/AUG_Dataset', batch_size=1)\n",
    "\n",
    "# wandb_logger = WandbLogger(project=\"SMU MOA\", name=\"ResUNetPP50_monaiDiceCELoss_Max150\")\n",
    "wandb_logger = WandbLogger(project=\"UNet Compare\", name=\"ResUNet_Max100_DiceFocalLoss_ckpt_bs&lrFinderUsed\")\n",
    "# wandb_logger = WandbLogger()\n",
    "\n",
    "\n",
    "trainer_ckpt = Trainer(max_epochs=100,\n",
    "                       #                      fast_dev_run=True, \n",
    "                       logger=wandb_logger,\n",
    "                       callbacks=[lr_monitor, ValidationCallback()],\n",
    "                       #                   callbacks=[lr_monitor],\n",
    "                       log_every_n_steps=1,\n",
    "                       check_val_every_n_epoch=1,\n",
    "                       #                   precision='16-mixed',\n",
    "                       )\n",
    "\n",
    "# 创建 Tuner 对象并运行学习率查找\n",
    "tuner = Tuner(trainer_ckpt)\n",
    "lr_finder_ckpt = tuner.lr_find(model_ckpt, datamodule=data_module_ckpt)\n",
    "\n",
    "# 可视化找到的学习率\n",
    "fig = lr_finder_ckpt.plot(suggest=True)\n",
    "display(fig)\n",
    "\n",
    "# 将建议的学习率设置给模型\n",
    "new_lr = lr_finder_ckpt.suggestion()\n",
    "model_ckpt.hparams.learning_rate = new_lr\n",
    "\n",
    "# 注意：在此处，你不需要手动更新 DataLoader 的批量大小\n",
    "# 因为 tuner.scale_batch_size 方法已经更新了 LiTSDataModule 中的 batch_size\n",
    "# 你可以检查更新后的批量大小\n",
    "tuner.scale_batch_size(model_ckpt, datamodule=data_module_ckpt, mode=\"power\")\n",
    "print(f\"Updated batch size: {data_module_ckpt.batch_size}\")\n",
    "\n",
    "# 使用更新后的学习率继续训练\n",
    "trainer_ckpt.fit(model_ckpt, datamodule=data_module_ckpt)"
   ],
   "metadata": {
    "execution": {
     "iopub.status.busy": "2024-04-06T11:06:08.73682Z",
     "iopub.execute_input": "2024-04-06T11:06:08.737653Z"
    },
    "trusted": true
   },
   "execution_count": null,
   "outputs": []
  },
  {
   "cell_type": "code",
   "source": [
    "wandb.finish()"
   ],
   "metadata": {
    "execution": {
     "iopub.status.busy": "2024-04-06T10:09:11.124688Z",
     "iopub.execute_input": "2024-04-06T10:09:11.125122Z",
     "iopub.status.idle": "2024-04-06T10:09:14.827452Z",
     "shell.execute_reply.started": "2024-04-06T10:09:11.125078Z",
     "shell.execute_reply": "2024-04-06T10:09:14.826663Z"
    },
    "trusted": true
   },
   "execution_count": null,
   "outputs": []
  }
 ]
}
