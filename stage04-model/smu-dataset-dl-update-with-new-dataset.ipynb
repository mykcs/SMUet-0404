{
 "metadata": {
  "kernelspec": {
   "language": "python",
   "display_name": "Python 3",
   "name": "python3"
  },
  "language_info": {
   "name": "python",
   "version": "3.10.13",
   "mimetype": "text/x-python",
   "codemirror_mode": {
    "name": "ipython",
    "version": 3
   },
   "pygments_lexer": "ipython3",
   "nbconvert_exporter": "python",
   "file_extension": ".py"
  },
  "kaggle": {
   "accelerator": "gpu",
   "dataSources": [
    {
     "sourceId": 7972942,
     "sourceType": "datasetVersion",
     "datasetId": 4691017
    },
    {
     "sourceId": 8062127,
     "sourceType": "datasetVersion",
     "datasetId": 4741616
    }
   ],
   "dockerImageVersionId": 30674,
   "isInternetEnabled": true,
   "language": "python",
   "sourceType": "notebook",
   "isGpuEnabled": true
  }
 },
 "nbformat_minor": 4,
 "nbformat": 4,
 "cells": [
  {
   "cell_type": "code",
   "source": [
    "class UNetTestModel(pl.LightningModule, HyperparametersMixin):\n",
    "    def __init__(\n",
    "        self,\n",
    "        encoder_name='mit_b2',\n",
    "        encoder_weights='imagenet',\n",
    "        in_channels=3,\n",
    "        classes=14,\n",
    "#         loss_fn=monai.losses.FocalLoss(use_softmax=True, to_onehot_y=True, include_background=False),\n",
    "#         loss_fn=DiceCELossWithKL(softmax=True, lambda_dice=0.85, lambda_ce=0.15, lambda_kl=2.0, to_onehot_y=True, include_background=True),\n",
    "        loss_fn=monai.losses.DiceCELoss(softmax=True, lambda_dice=0.85, lambda_ce=0.15, to_onehot_y=True),\n",
    "\n",
    "#         loss_fn=monai.losses.DiceLoss( to_onehot_y=True),\n",
    "        loss_function='DiceCELossWithKL',\n",
    "        learning_rate=3e-3,\n",
    "        ):\n",
    "        super().__init__()\n",
    "        self.save_hyperparameters()\n",
    "        ###################### model #########################\n",
    "        self.model = smp.Unet(\n",
    "            encoder_name=encoder_name,\n",
    "            encoder_weights=encoder_weights,\n",
    "            in_channels=in_channels,\n",
    "            classes=classes,\n",
    "#             decoder_attention_type='scse',\n",
    "        )\n",
    "        ###################### loss ##########################\n",
    "        self.loss_fn = loss_fn\n",
    "        ###################### metrics ######################\n",
    "#         self.train_accuracy = torchmetrics.classification.Accuracy(task=\"multiclass\", num_classes=classes, average='micro', ignore_index=0)\n",
    "#         self.val_accuracy_MACRO = torchmetrics.classification.Accuracy(task=\"multiclass\", num_classes=14, average='macro', ignore_index=0)\n",
    "        self.val_accuracy = torchmetrics.classification.Accuracy(task=\"multiclass\", num_classes=14, average='macro', ignore_index=0)\n",
    "        self.val_accuracy_classwise = torchmetrics.classification.Accuracy(task=\"multiclass\", num_classes=14, average='none', ignore_index=0)\n",
    "        self.Dice = torchmetrics.classification.Dice(multiclass=True, num_classes=14, average='macro', ignore_index=0)\n",
    "        self.F1 = torchmetrics.classification.MulticlassF1Score(num_classes=14, average=\"macro\", ignore_index=0)\n",
    "        self.Jaccard = torchmetrics.classification.MulticlassJaccardIndex(num_classes=14, average=\"macro\", ignore_index=0)\n",
    "\n",
    "\n",
    "    # 定义前向传播\n",
    "    def forward(self, x):\n",
    "        x = x.repeat(1,3,1,1)\n",
    "        return self.model(x)\n",
    "\n",
    "\n",
    "    def training_step(self, batch, batch_idx):\n",
    "        images, labels = batch\n",
    "        outputs = self.forward(images)\n",
    "        loss = self.loss_fn(outputs, labels.unsqueeze(1))\n",
    "        self.log('train_loss', loss, on_step=True, on_epoch=False, logger=True, prog_bar=True)\n",
    "        return loss\n",
    "\n",
    "    def validation_step(self, batch, batch_idx):\n",
    "        images, labels = batch\n",
    "        outputs = self.forward(images)\n",
    "        loss = self.loss_fn(outputs, labels.unsqueeze(1))\n",
    "#         outputs = F.softmax(outputs, dim=1)  # 将logits转换为概率\n",
    "#         preds = torch.argmax(outputs, dim=1)\n",
    "#         labels = (F.one_hot(labels, num_classes=14)).permute(0, 3, 1, 2)\n",
    "#         print(f\"Images shape: {images.shape}\")\n",
    "#         print(f\"Labels shape: {labels.shape}\")\n",
    "#         print(f\"Outputs shape: {outputs.shape}\")\n",
    "#         print(f\"Labels with unsqueezed dim shape: {labels.unsqueeze(1).shape}\")\n",
    "#         print(f\"Predictions shape: {preds.shape}\")\n",
    "#         print(labels_one_hot.shape)\n",
    "# loss = self.loss_fn(outputs, labels.unsqueeze(1))\n",
    "# Images shape: torch.Size([1, 1, 256, 256])\n",
    "# Labels shape: torch.Size([1, 256, 256])\n",
    "# Outputs shape: torch.Size([1, 14, 256, 256])\n",
    "# Labels with unsqueezed dim shape: torch.Size([1, 1, 256, 256])\n",
    "# Predictions shape: torch.Size([1, 256, 256])\n",
    "#         acc_micro = self.val_accuracy_micro(outputs, labels)\n",
    "        accuracy = self.val_accuracy(outputs, labels)\n",
    "        Dice = self.Dice(outputs, labels)\n",
    "        F1 = self.F1(outputs, labels)\n",
    "        Jaccard = self.Jaccard(outputs, labels)\n",
    "        acc = self.val_accuracy_classwise(outputs, labels)\n",
    "        \n",
    "        self.log('val_loss', loss, on_step=True, on_epoch=False, logger=True, prog_bar=True)\n",
    "#         self.log('val_accuracy_micro', acc_micro, on_step=True, on_epoch=False, logger=True, prog_bar=True)\n",
    "        self.log('val_accuracy', accuracy, on_step=True, on_epoch=False, logger=True, prog_bar=True)\n",
    "        self.log('val_F1', F1, on_step=True, on_epoch=False, logger=True, prog_bar=True)\n",
    "        self.log('val_Dice', Dice, on_step=True, on_epoch=False, logger=True, prog_bar=True)\n",
    "        self.log('val_Jaccard', Jaccard, on_step=True, on_epoch=False, logger=True, prog_bar=True)\n",
    "        \n",
    "        self.log('val_acc_4', acc[4], on_step=True, on_epoch=False, logger=True, prog_bar=True)\n",
    "        self.log('val_acc_5', acc[5], on_step=True, on_epoch=False, logger=True, prog_bar=True)\n",
    "        self.log('val_acc_10', acc[10], on_step=True, on_epoch=False, logger=True, prog_bar=True)\n",
    "        self.log('val_acc_12', acc[12], on_step=True, on_epoch=False, logger=True, prog_bar=True)\n",
    "        self.log('val_acc_13', acc[13], on_step=True, on_epoch=False, logger=True, prog_bar=True)\n",
    "\n",
    "        # 返回loss和其他可能需要的信息，但不在这里记录loss\n",
    "        return {\"loss\": loss, \"accuracy\": accuracy}\n",
    "    # def on_validation_epoch_end(self, outputs):\n",
    "    #     # outputs 是一个列表，包含每个验证批次的输出\n",
    "    #     avg_loss = torch.stack([x['loss'] for x in outputs]).mean()\n",
    "    #     avg_accuracy = torch.stack([x['accuracy'] for x in outputs]).mean()\n",
    "    #     avg_dice = torch.stack([x['Dice'] for x in outputs]).mean()\n",
    "    #     avg_f1 = torch.stack([x['F1'] for x in outputs]).mean()\n",
    "    #     avg_jaccard = torch.stack([x['Jaccard'] for x in outputs]).mean()\n",
    "\n",
    "    #     # 将平均损失和平均精度记录到日志中\n",
    "    #     self.log('avg_val_loss', avg_loss, on_epoch=True, prog_bar=True, logger=True)\n",
    "    #     self.log('avg_val_accuracy', avg_accuracy, on_epoch=True, prog_bar=True, logger=True)\n",
    "    #     self.log('avg_val_dice', avg_dice, on_epoch=True, prog_bar=True, logger=True)\n",
    "    #     self.log('avg_val_f1', avg_f1, on_epoch=True, prog_bar=True, logger=True)\n",
    "    #     self.log('avg_val_jaccard', avg_jaccard, on_epoch=True, prog_bar=True, logger=True)\n",
    "\n",
    "    #     # 你可以选择记录其他指标或进行其他的后处理\n",
    "    #     # 例如，你可能想要记录每个类别的平均精度\n",
    "    #     classwise_accuracy = torch.stack([x['classwise_acc'] for x in outputs]).mean(dim=0)\n",
    "    #     for i, acc in enumerate(classwise_accuracy):\n",
    "    #         self.log(f'avg_val_acc_class_{i}', acc, on_epoch=True, prog_bar=True, logger=True)\n",
    "\n",
    "\n",
    "    def optimizer_step(self, epoch, batch_idx, optimizer, optimizer_closure, **kwargs):\n",
    "        if self.trainer.global_step < 50:\n",
    "            lr_scale = min(1.0, float(self.trainer.global_step + 1) / 50)\n",
    "            for pg in optimizer.param_groups:\n",
    "                pg[\"lr\"] = lr_scale * self.hparams.learning_rate\n",
    "        # 调用优化器的step方法来更新模型参数\n",
    "        optimizer.step(closure=optimizer_closure)\n",
    "\n",
    "    def configure_optimizers(self):\n",
    "        optimizer = torch.optim.Adam(self.parameters(), lr=self.hparams.learning_rate)\n",
    "#         scheduler = torch.optim.lr_scheduler.StepLR(optimizer, step_size=10, gamma=0.9, verbose=True)\n",
    "        scheduler = torch.optim.lr_scheduler.CosineAnnealingLR(optimizer, T_max=5, eta_min=0.000001, last_epoch=-1)\n",
    "#         print(self.hparams.learning_rate)\n",
    "        return {\n",
    "            'optimizer': optimizer,\n",
    "            'lr_scheduler': {\n",
    "                'scheduler': scheduler,\n",
    "                'interval': 'epoch', \n",
    "                'frequency': 1, \n",
    "            }\n",
    "        }"
   ],
   "metadata": {
    "_uuid": "ac36333a-0d4f-494b-a95c-889fc8ca64d9",
    "_cell_guid": "e855577b-fc8c-4409-b4d6-0f82ee37f1d3",
    "execution": {
     "iopub.status.busy": "2024-04-10T07:54:31.206116Z",
     "iopub.execute_input": "2024-04-10T07:54:31.206475Z",
     "iopub.status.idle": "2024-04-10T07:54:31.232752Z",
     "shell.execute_reply.started": "2024-04-10T07:54:31.206450Z",
     "shell.execute_reply": "2024-04-10T07:54:31.231848Z"
    },
    "trusted": true
   },
   "execution_count": 5,
   "outputs": []
  },
  {
   "cell_type": "markdown",
   "source": [
    "# (Opt) Hyper Params Check"
   ],
   "metadata": {
    "_uuid": "7357d769-1c7b-4ae0-b717-68fe4d9524bc",
    "_cell_guid": "f00537a2-4837-4a41-94fe-819c9ce7b959",
    "trusted": true
   }
  },
  {
   "cell_type": "code",
   "source": [
    "# from torchinfo import summary\n",
    "model = UNetTestModel()\n",
    "# summary(model, input_size=(1,1,256,256))\n",
    "# summary(model1, input_size=(1,1,256,256), verbose=2)\n",
    "\n",
    "# print(model.hparams)\n",
    "# def print_model_details(model, indent=0):\n",
    "#     for name, child in model.named_children():\n",
    "#         print(\" \" * indent, name, child)\n",
    "#         print_model_details(child, indent+4)\n",
    "\n",
    "def print_model_details(model, indent=0, max_depth=1):\n",
    "    for name, child in model.named_children():\n",
    "        print(\" \" * indent + f\"({name}): {child.__class__.__name__}\")\n",
    "        if indent < max_depth * 4:  # 增加缩进条件来控制输出深度\n",
    "            print_model_details(child, indent + 4, max_depth)\n",
    "\n",
    "print_model_details(model, max_depth=4)\n"
   ],
   "metadata": {
    "_uuid": "54a3656f-6ee2-41bb-92cc-2f278e3ed7d7",
    "_cell_guid": "e6d612dd-14b3-4d64-960e-78b581b1d7e3",
    "trusted": true
   },
   "execution_count": null,
   "outputs": []
  },
  {
   "cell_type": "code",
   "source": [
    "from torchviz import make_dot\n",
    "from graphviz import Digraph\n",
    "\n",
    "def add_graph_node(dot, var, seen):\n",
    "    if var not in seen:\n",
    "        if torch.is_tensor(var):\n",
    "            dot.node(str(id(var)), str(var.size()), fillcolor='orange')\n",
    "        elif hasattr(var, 'variable'):\n",
    "            u = var.variable\n",
    "            name = str(id(u)) + ' ' + str(u.size())\n",
    "            dot.node(name, name, fillcolor='lightblue')\n",
    "        else:\n",
    "            dot.node(str(id(var)), str(type(var).__name__))\n",
    "        seen.add(var)\n",
    "        if hasattr(var, 'next_functions'):\n",
    "            for u in var.next_functions:\n",
    "                if u[0] is not None:\n",
    "                    dot.edge(str(id(u[0])), str(id(var)))\n",
    "                    add_graph_node(dot, u[0], seen)\n",
    "        if hasattr(var, 'saved_tensors'):\n",
    "            for t in var.saved_tensors:\n",
    "                dot.edge(str(id(t)), str(id(var)))\n",
    "                add_graph_node(dot, t, seen)\n",
    "                \n",
    "x = torch.randn(1, 1, 256, 256)  # 生成一个随机输入\n",
    "y = model(x)\n",
    "dot = Digraph(comment='UNet Architecture', format='png')\n",
    "add_graph_node(dot, y.grad_fn, set())\n",
    "\n",
    "dot.render('unet_model_very_simplified')\n"
   ],
   "metadata": {
    "execution": {
     "iopub.status.busy": "2024-04-10T06:06:46.372250Z",
     "iopub.execute_input": "2024-04-10T06:06:46.373145Z",
     "iopub.status.idle": "2024-04-10T06:06:58.484886Z",
     "shell.execute_reply.started": "2024-04-10T06:06:46.373107Z",
     "shell.execute_reply": "2024-04-10T06:06:58.483993Z"
    },
    "trusted": true
   },
   "execution_count": 13,
   "outputs": [
    {
     "name": "stderr",
     "text": "dot: graph is too large for cairo-renderer bitmaps. Scaling by 0.224889 to fit\n",
     "output_type": "stream"
    },
    {
     "execution_count": 13,
     "output_type": "execute_result",
     "data": {
      "text/plain": "'unet_model_very_simplified.png'"
     },
     "metadata": {}
    }
   ]
  },
  {
   "cell_type": "markdown",
   "source": [
    "# (Opt) Pre-Train Test"
   ],
   "metadata": {
    "_uuid": "7e5a9389-57b6-4a07-b428-b41fcc987525",
    "_cell_guid": "de47c7ee-1eee-4ee1-93f6-d6b43df86981",
    "trusted": true
   }
  },
  {
   "cell_type": "code",
   "source": [
    "data_module = MOADataModule(data_dir=data_dir, batch_size=1)\n",
    "# avail test\n",
    "model = UNetTestModel()\n",
    "lr_monitor = LearningRateMonitor(logging_interval='step')\n",
    "############################################## fastrun ###################################################\n",
    "trainer = pl.Trainer(max_epochs=20, \n",
    "                     fast_dev_run=True, \n",
    "#                      callbacks=[lr_monitor, ValidationCallback()],\n",
    "#                      check_val_every_n_epoch=10, \n",
    "                    )\n",
    "trainer.fit(model, datamodule=data_module)"
   ],
   "metadata": {
    "_uuid": "3c026544-ec35-408c-9c4a-8840ba0d8202",
    "_cell_guid": "37e59d03-78db-479e-954e-7e8fb28a80a3",
    "execution": {
     "iopub.status.busy": "2024-04-10T07:49:25.852259Z",
     "iopub.execute_input": "2024-04-10T07:49:25.853241Z",
     "iopub.status.idle": "2024-04-10T07:49:30.465191Z",
     "shell.execute_reply.started": "2024-04-10T07:49:25.853201Z",
     "shell.execute_reply": "2024-04-10T07:49:30.464015Z"
    },
    "trusted": true
   },
   "execution_count": 33,
   "outputs": [
    {
     "output_type": "display_data",
     "data": {
      "text/plain": "Training: |          | 0/? [00:00<?, ?it/s]",
      "application/vnd.jupyter.widget-view+json": {
       "version_major": 2,
       "version_minor": 0,
       "model_id": "c19a19f689024d4c8d97689d948c95af"
      }
     },
     "metadata": {}
    },
    {
     "output_type": "display_data",
     "data": {
      "text/plain": "Validation: |          | 0/? [00:00<?, ?it/s]",
      "application/vnd.jupyter.widget-view+json": {
       "version_major": 2,
       "version_minor": 0,
       "model_id": ""
      }
     },
     "metadata": {}
    }
   ]
  },
  {
   "cell_type": "code",
   "source": [
    "data_module = MOADataModule(data_dir=data_dir, batch_size=1)\n",
    "# learnability test\n",
    "wandb_logger_test = WandbLogger()\n",
    "# # 初始化Trainer，设置overfit_batches来过拟合一小部分数据\n",
    "# lr_monitor = LearningRateMonitor(logging_interval='step')\n",
    "test_trainer = pl.Trainer(overfit_batches=1, \n",
    "                          logger=wandb_logger_test, \n",
    "#                           callbacks=[lr_monitor, ValidationCallback()], \n",
    "                          check_val_every_n_epoch=1)\n",
    "\n",
    "# # 或者，使用10个批次的数据来过拟合\n",
    "# test_trainer = pl.Trainer(overfit_batches=10, logger=wandb_logger_test)\n",
    "\n",
    "# 运行训练\n",
    "test_trainer.fit(model, datamodule=data_module)\n",
    "wandb.finish()"
   ],
   "metadata": {
    "_uuid": "273bd454-c583-441a-8b86-d5b109f13028",
    "_cell_guid": "4417d2cf-aade-490c-9cf2-4aed7f9bb6f0",
    "trusted": true
   },
   "execution_count": null,
   "outputs": []
  },
  {
   "cell_type": "markdown",
   "source": [
    "# Sweeps"
   ],
   "metadata": {}
  },
  {
   "cell_type": "code",
   "source": [
    "sweep_config = {\n",
    "  'method': 'random', \n",
    "  'metric': {\n",
    "    'name': 'val_loss',\n",
    "    'goal': 'minimize'}, \n",
    "  'parameters': {\n",
    "    'learning_rate': {\n",
    "      'min': 0.0001,\n",
    "      'max': 0.1},\n",
    "    'batch_size': {\n",
    "      'values': [16, 32, 64]}\n",
    "    }\n",
    "}\n",
    "wandb_logger = WandbLogger()\n",
    "sweep_id = wandb.sweep(sweep_config, project=\"test sweeps2\")\n",
    "lr_monitor = LearningRateMonitor(logging_interval='step')\n",
    "\n",
    "def sweep_train():\n",
    "    with wandb.init() as run:\n",
    "        config = wandb.config\n",
    "        model = UNetTestModel(\n",
    "            learning_rate=config.learning_rate,\n",
    "#             batch_size=config.batch_size,\n",
    "            # 其他参数...\n",
    "        )\n",
    "        trainer = pl.Trainer(\n",
    "            max_epochs=150,\n",
    "            callbacks=[lr_monitor, ValidationCallback()],\n",
    "            logger=wandb_logger,\n",
    "#             check_val_every_n_epoch=10,\n",
    "            # 其他设置...\n",
    "        )\n",
    "        data_module = MOADataModule(data_dir=data_dir, batch_size=config.batch_size)\n",
    "        trainer.fit(model, datamodule=data_module)\n",
    "\n",
    "wandb.agent(sweep_id, function=sweep_train, count=10)\n"
   ],
   "metadata": {
    "execution": {
     "iopub.status.busy": "2024-03-31T04:44:01.362615Z",
     "iopub.execute_input": "2024-03-31T04:44:01.363580Z",
     "iopub.status.idle": "2024-03-31T04:45:17.412101Z",
     "shell.execute_reply.started": "2024-03-31T04:44:01.363541Z",
     "shell.execute_reply": "2024-03-31T04:45:17.410888Z"
    },
    "jupyter": {
     "source_hidden": true
    },
    "trusted": true
   },
   "execution_count": null,
   "outputs": []
  },
  {
   "cell_type": "markdown",
   "source": [
    "# Lightning Style Formal Test"
   ],
   "metadata": {
    "_uuid": "8aa9f836-18b6-4afe-8a97-02aa78f1c528",
    "_cell_guid": "db51d23f-6157-4418-9399-1403d782d90e",
    "trusted": true
   }
  },
  {
   "cell_type": "code",
   "source": [
    "lr_monitor = LearningRateMonitor(logging_interval='step')\n",
    "# 假设你已经定义了 LiTSDataModule\n",
    "data_module = MOADataModule(data_dir=data_dir, batch_size=32)\n",
    "# 初始化模型和训练器\n",
    "model = UNetTestModel()\n",
    "\n",
    "# wandb_logger = WandbLogger(project=\"SMU MOA\", name=\"ResUNetPP50_monaiDiceCELoss_Max150\")\n",
    "wandb_logger = WandbLogger(project=\"UNet Compare\", name=\"MViTUNet_Max120_DiceCELoss_basicAUG\")\n",
    "# wandb_logger = WandbLogger()\n",
    "\n",
    "# 设置ModelCheckpoint以每20轮保存一次模型\n",
    "checkpoint_callback = ModelCheckpoint(\n",
    "    dirpath='my_model/',  # 模型保存路径\n",
    "    filename='model-{epoch:02d}',  # 文件名包含 epoch\n",
    "    save_top_k=-1,  # 设置为 -1 以保存所有检查点\n",
    "    every_n_epochs=20,  # 每20轮保存一次\n",
    "    save_on_train_epoch_end=True  # 确保在训练轮结束时保存\n",
    ")\n",
    "\n",
    "trainer = Trainer(max_epochs=120, \n",
    "#                      fast_dev_run=True, \n",
    "                  logger=wandb_logger, \n",
    "                  callbacks=[lr_monitor, ValidationCallback(), checkpoint_callback],\n",
    "#                   callbacks=[lr_monitor],\n",
    "                  log_every_n_steps=1,\n",
    "                  check_val_every_n_epoch=1,\n",
    "#                   precision='16-mixed',\n",
    "                  )\n",
    "\n",
    "\n",
    "# tuner = Tuner(trainer)\n",
    "# lr_finder = tuner.lr_find(model, datamodule=data_module)\n",
    "\n",
    "# fig = lr_finder.plot(suggest=True)\n",
    "# display(fig)\n",
    "\n",
    "# new_lr = lr_finder.suggestion()\n",
    "# model.hparams.learning_rate = new_lr\n",
    "\n",
    "\n",
    "# tuner.scale_batch_size(model, datamodule=data_module, mode=\"power\")\n",
    "# print(f\"Updated batch size: {data_module.batch_size}\")\n",
    "\n",
    "# 使用更新后的学习率继续训练\n",
    "trainer.fit(model, datamodule=data_module)\n",
    "\n",
    "# ##################################################### EVA ###################################################\n",
    "# 确保模型处于评估模式\n",
    "model.eval()\n",
    "print(\"eval activated\")\n",
    "\n",
    "# 循环十次，每次都记录图像\n",
    "for _ in range(10):\n",
    "    fig = predict_and_log_images(num_samples=2)\n",
    "    wandb.log({\"Predicted Images\": wandb.Image(fig)})"
   ],
   "metadata": {
    "_uuid": "0049db84-14fe-45a1-aef2-75921b97a7c0",
    "_cell_guid": "02f8ebdf-9845-4e4b-9439-0fbefbf50fbd",
    "collapsed": false,
    "execution": {
     "iopub.status.busy": "2024-04-10T07:55:17.134677Z",
     "iopub.execute_input": "2024-04-10T07:55:17.135441Z",
     "iopub.status.idle": "2024-04-10T09:34:38.669104Z",
     "shell.execute_reply.started": "2024-04-10T07:55:17.135408Z",
     "shell.execute_reply": "2024-04-10T09:34:38.667457Z"
    },
    "trusted": true
   },
   "execution_count": 6,
   "outputs": [
    {
     "name": "stderr",
     "text": "/opt/conda/lib/python3.10/site-packages/pytorch_lightning/utilities/parsing.py:199: Attribute 'loss_fn' is an instance of `nn.Module` and is already saved during checkpointing. It is recommended to ignore them using `self.save_hyperparameters(ignore=['loss_fn'])`.\nDownloading: \"https://github.com/qubvel/segmentation_models.pytorch/releases/download/v0.0.2/mit_b2.pth\" to /root/.cache/torch/hub/checkpoints/mit_b2.pth\n100%|██████████| 94.3M/94.3M [00:01<00:00, 72.9MB/s]\n\u001B[34m\u001B[1mwandb\u001B[0m: Logging into wandb.ai. (Learn how to deploy a W&B server locally: https://wandb.me/wandb-server)\n\u001B[34m\u001B[1mwandb\u001B[0m: You can find your API key in your browser here: https://wandb.ai/authorize\n\u001B[34m\u001B[1mwandb\u001B[0m: Paste an API key from your profile and hit enter, or press ctrl+c to quit:",
     "output_type": "stream"
    },
    {
     "output_type": "stream",
     "name": "stdin",
     "text": "  ········································\n"
    },
    {
     "name": "stderr",
     "text": "\u001B[34m\u001B[1mwandb\u001B[0m: Appending key for api.wandb.ai to your netrc file: /root/.netrc\n",
     "output_type": "stream"
    },
    {
     "output_type": "display_data",
     "data": {
      "text/plain": "<IPython.core.display.HTML object>",
      "text/html": "Tracking run with wandb version 0.16.6"
     },
     "metadata": {}
    },
    {
     "output_type": "display_data",
     "data": {
      "text/plain": "<IPython.core.display.HTML object>",
      "text/html": "Run data is saved locally in <code>./wandb/run-20240410_075529-ygf7rtvn</code>"
     },
     "metadata": {}
    },
    {
     "output_type": "display_data",
     "data": {
      "text/plain": "<IPython.core.display.HTML object>",
      "text/html": "Syncing run <strong><a href='https://wandb.ai/southern/UNet%20Compare/runs/ygf7rtvn' target=\"_blank\">MViTUNet_Max120_DiceCELoss_basicAUG</a></strong> to <a href='https://wandb.ai/southern/UNet%20Compare' target=\"_blank\">Weights & Biases</a> (<a href='https://wandb.me/run' target=\"_blank\">docs</a>)<br/>"
     },
     "metadata": {}
    },
    {
     "output_type": "display_data",
     "data": {
      "text/plain": "<IPython.core.display.HTML object>",
      "text/html": " View project at <a href='https://wandb.ai/southern/UNet%20Compare' target=\"_blank\">https://wandb.ai/southern/UNet%20Compare</a>"
     },
     "metadata": {}
    },
    {
     "output_type": "display_data",
     "data": {
      "text/plain": "<IPython.core.display.HTML object>",
      "text/html": " View run at <a href='https://wandb.ai/southern/UNet%20Compare/runs/ygf7rtvn' target=\"_blank\">https://wandb.ai/southern/UNet%20Compare/runs/ygf7rtvn</a>"
     },
     "metadata": {}
    },
    {
     "output_type": "display_data",
     "data": {
      "text/plain": "Sanity Checking: |          | 0/? [00:00<?, ?it/s]",
      "application/vnd.jupyter.widget-view+json": {
       "version_major": 2,
       "version_minor": 0,
       "model_id": ""
      }
     },
     "metadata": {}
    },
    {
     "output_type": "display_data",
     "data": {
      "text/plain": "Training: |          | 0/? [00:00<?, ?it/s]",
      "application/vnd.jupyter.widget-view+json": {
       "version_major": 2,
       "version_minor": 0,
       "model_id": "3051cbaf5f9840feaa991b41b5cebf08"
      }
     },
     "metadata": {}
    },
    {
     "output_type": "display_data",
     "data": {
      "text/plain": "Validation: |          | 0/? [00:00<?, ?it/s]",
      "application/vnd.jupyter.widget-view+json": {
       "version_major": 2,
       "version_minor": 0,
       "model_id": ""
      }
     },
     "metadata": {}
    },
    {
     "output_type": "display_data",
     "data": {
      "text/plain": "Validation: |          | 0/? [00:00<?, ?it/s]",
      "application/vnd.jupyter.widget-view+json": {
       "version_major": 2,
       "version_minor": 0,
       "model_id": ""
      }
     },
     "metadata": {}
    },
    {
     "output_type": "display_data",
     "data": {
      "text/plain": "Validation: |          | 0/? [00:00<?, ?it/s]",
      "application/vnd.jupyter.widget-view+json": {
       "version_major": 2,
       "version_minor": 0,
       "model_id": ""
      }
     },
     "metadata": {}
    },
    {
     "output_type": "display_data",
     "data": {
      "text/plain": "Validation: |          | 0/? [00:00<?, ?it/s]",
      "application/vnd.jupyter.widget-view+json": {
       "version_major": 2,
       "version_minor": 0,
       "model_id": ""
      }
     },
     "metadata": {}
    },
    {
     "output_type": "display_data",
     "data": {
      "text/plain": "Validation: |          | 0/? [00:00<?, ?it/s]",
      "application/vnd.jupyter.widget-view+json": {
       "version_major": 2,
       "version_minor": 0,
       "model_id": ""
      }
     },
     "metadata": {}
    },
    {
     "output_type": "display_data",
     "data": {
      "text/plain": "Validation: |          | 0/? [00:00<?, ?it/s]",
      "application/vnd.jupyter.widget-view+json": {
       "version_major": 2,
       "version_minor": 0,
       "model_id": ""
      }
     },
     "metadata": {}
    },
    {
     "output_type": "display_data",
     "data": {
      "text/plain": "Validation: |          | 0/? [00:00<?, ?it/s]",
      "application/vnd.jupyter.widget-view+json": {
       "version_major": 2,
       "version_minor": 0,
       "model_id": ""
      }
     },
     "metadata": {}
    },
    {
     "output_type": "display_data",
     "data": {
      "text/plain": "Validation: |          | 0/? [00:00<?, ?it/s]",
      "application/vnd.jupyter.widget-view+json": {
       "version_major": 2,
       "version_minor": 0,
       "model_id": ""
      }
     },
     "metadata": {}
    },
    {
     "output_type": "display_data",
     "data": {
      "text/plain": "Validation: |          | 0/? [00:00<?, ?it/s]",
      "application/vnd.jupyter.widget-view+json": {
       "version_major": 2,
       "version_minor": 0,
       "model_id": ""
      }
     },
     "metadata": {}
    },
    {
     "output_type": "display_data",
     "data": {
      "text/plain": "Validation: |          | 0/? [00:00<?, ?it/s]",
      "application/vnd.jupyter.widget-view+json": {
       "version_major": 2,
       "version_minor": 0,
       "model_id": ""
      }
     },
     "metadata": {}
    },
    {
     "output_type": "display_data",
     "data": {
      "text/plain": "Validation: |          | 0/? [00:00<?, ?it/s]",
      "application/vnd.jupyter.widget-view+json": {
       "version_major": 2,
       "version_minor": 0,
       "model_id": ""
      }
     },
     "metadata": {}
    },
    {
     "output_type": "display_data",
     "data": {
      "text/plain": "Validation: |          | 0/? [00:00<?, ?it/s]",
      "application/vnd.jupyter.widget-view+json": {
       "version_major": 2,
       "version_minor": 0,
       "model_id": ""
      }
     },
     "metadata": {}
    },
    {
     "output_type": "display_data",
     "data": {
      "text/plain": "Validation: |          | 0/? [00:00<?, ?it/s]",
      "application/vnd.jupyter.widget-view+json": {
       "version_major": 2,
       "version_minor": 0,
       "model_id": ""
      }
     },
     "metadata": {}
    },
    {
     "output_type": "display_data",
     "data": {
      "text/plain": "Validation: |          | 0/? [00:00<?, ?it/s]",
      "application/vnd.jupyter.widget-view+json": {
       "version_major": 2,
       "version_minor": 0,
       "model_id": ""
      }
     },
     "metadata": {}
    },
    {
     "name": "stderr",
     "text": "wandb: Network error (ReadTimeout), entering retry loop.\nwandb: Network error (ReadTimeout), entering retry loop.\n",
     "output_type": "stream"
    },
    {
     "output_type": "display_data",
     "data": {
      "text/plain": "Validation: |          | 0/? [00:00<?, ?it/s]",
      "application/vnd.jupyter.widget-view+json": {
       "version_major": 2,
       "version_minor": 0,
       "model_id": ""
      }
     },
     "metadata": {}
    },
    {
     "output_type": "display_data",
     "data": {
      "text/plain": "Validation: |          | 0/? [00:00<?, ?it/s]",
      "application/vnd.jupyter.widget-view+json": {
       "version_major": 2,
       "version_minor": 0,
       "model_id": ""
      }
     },
     "metadata": {}
    },
    {
     "name": "stderr",
     "text": "wandb: Network error (ReadTimeout), entering retry loop.\n",
     "output_type": "stream"
    },
    {
     "output_type": "display_data",
     "data": {
      "text/plain": "Validation: |          | 0/? [00:00<?, ?it/s]",
      "application/vnd.jupyter.widget-view+json": {
       "version_major": 2,
       "version_minor": 0,
       "model_id": ""
      }
     },
     "metadata": {}
    },
    {
     "output_type": "display_data",
     "data": {
      "text/plain": "Validation: |          | 0/? [00:00<?, ?it/s]",
      "application/vnd.jupyter.widget-view+json": {
       "version_major": 2,
       "version_minor": 0,
       "model_id": ""
      }
     },
     "metadata": {}
    },
    {
     "output_type": "display_data",
     "data": {
      "text/plain": "Validation: |          | 0/? [00:00<?, ?it/s]",
      "application/vnd.jupyter.widget-view+json": {
       "version_major": 2,
       "version_minor": 0,
       "model_id": ""
      }
     },
     "metadata": {}
    },
    {
     "output_type": "display_data",
     "data": {
      "text/plain": "Validation: |          | 0/? [00:00<?, ?it/s]",
      "application/vnd.jupyter.widget-view+json": {
       "version_major": 2,
       "version_minor": 0,
       "model_id": ""
      }
     },
     "metadata": {}
    },
    {
     "output_type": "display_data",
     "data": {
      "text/plain": "Validation: |          | 0/? [00:00<?, ?it/s]",
      "application/vnd.jupyter.widget-view+json": {
       "version_major": 2,
       "version_minor": 0,
       "model_id": ""
      }
     },
     "metadata": {}
    },
    {
     "output_type": "display_data",
     "data": {
      "text/plain": "Validation: |          | 0/? [00:00<?, ?it/s]",
      "application/vnd.jupyter.widget-view+json": {
       "version_major": 2,
       "version_minor": 0,
       "model_id": ""
      }
     },
     "metadata": {}
    },
    {
     "output_type": "display_data",
     "data": {
      "text/plain": "Validation: |          | 0/? [00:00<?, ?it/s]",
      "application/vnd.jupyter.widget-view+json": {
       "version_major": 2,
       "version_minor": 0,
       "model_id": ""
      }
     },
     "metadata": {}
    },
    {
     "output_type": "display_data",
     "data": {
      "text/plain": "Validation: |          | 0/? [00:00<?, ?it/s]",
      "application/vnd.jupyter.widget-view+json": {
       "version_major": 2,
       "version_minor": 0,
       "model_id": ""
      }
     },
     "metadata": {}
    },
    {
     "output_type": "display_data",
     "data": {
      "text/plain": "Validation: |          | 0/? [00:00<?, ?it/s]",
      "application/vnd.jupyter.widget-view+json": {
       "version_major": 2,
       "version_minor": 0,
       "model_id": ""
      }
     },
     "metadata": {}
    },
    {
     "output_type": "display_data",
     "data": {
      "text/plain": "Validation: |          | 0/? [00:00<?, ?it/s]",
      "application/vnd.jupyter.widget-view+json": {
       "version_major": 2,
       "version_minor": 0,
       "model_id": ""
      }
     },
     "metadata": {}
    },
    {
     "output_type": "display_data",
     "data": {
      "text/plain": "Validation: |          | 0/? [00:00<?, ?it/s]",
      "application/vnd.jupyter.widget-view+json": {
       "version_major": 2,
       "version_minor": 0,
       "model_id": ""
      }
     },
     "metadata": {}
    },
    {
     "output_type": "display_data",
     "data": {
      "text/plain": "Validation: |          | 0/? [00:00<?, ?it/s]",
      "application/vnd.jupyter.widget-view+json": {
       "version_major": 2,
       "version_minor": 0,
       "model_id": ""
      }
     },
     "metadata": {}
    },
    {
     "output_type": "display_data",
     "data": {
      "text/plain": "Validation: |          | 0/? [00:00<?, ?it/s]",
      "application/vnd.jupyter.widget-view+json": {
       "version_major": 2,
       "version_minor": 0,
       "model_id": ""
      }
     },
     "metadata": {}
    },
    {
     "output_type": "display_data",
     "data": {
      "text/plain": "Validation: |          | 0/? [00:00<?, ?it/s]",
      "application/vnd.jupyter.widget-view+json": {
       "version_major": 2,
       "version_minor": 0,
       "model_id": ""
      }
     },
     "metadata": {}
    },
    {
     "output_type": "display_data",
     "data": {
      "text/plain": "Validation: |          | 0/? [00:00<?, ?it/s]",
      "application/vnd.jupyter.widget-view+json": {
       "version_major": 2,
       "version_minor": 0,
       "model_id": ""
      }
     },
     "metadata": {}
    },
    {
     "output_type": "display_data",
     "data": {
      "text/plain": "Validation: |          | 0/? [00:00<?, ?it/s]",
      "application/vnd.jupyter.widget-view+json": {
       "version_major": 2,
       "version_minor": 0,
       "model_id": ""
      }
     },
     "metadata": {}
    },
    {
     "output_type": "display_data",
     "data": {
      "text/plain": "Validation: |          | 0/? [00:00<?, ?it/s]",
      "application/vnd.jupyter.widget-view+json": {
       "version_major": 2,
       "version_minor": 0,
       "model_id": ""
      }
     },
     "metadata": {}
    },
    {
     "output_type": "display_data",
     "data": {
      "text/plain": "Validation: |          | 0/? [00:00<?, ?it/s]",
      "application/vnd.jupyter.widget-view+json": {
       "version_major": 2,
       "version_minor": 0,
       "model_id": ""
      }
     },
     "metadata": {}
    },
    {
     "output_type": "display_data",
     "data": {
      "text/plain": "Validation: |          | 0/? [00:00<?, ?it/s]",
      "application/vnd.jupyter.widget-view+json": {
       "version_major": 2,
       "version_minor": 0,
       "model_id": ""
      }
     },
     "metadata": {}
    },
    {
     "output_type": "display_data",
     "data": {
      "text/plain": "Validation: |          | 0/? [00:00<?, ?it/s]",
      "application/vnd.jupyter.widget-view+json": {
       "version_major": 2,
       "version_minor": 0,
       "model_id": ""
      }
     },
     "metadata": {}
    },
    {
     "output_type": "display_data",
     "data": {
      "text/plain": "Validation: |          | 0/? [00:00<?, ?it/s]",
      "application/vnd.jupyter.widget-view+json": {
       "version_major": 2,
       "version_minor": 0,
       "model_id": ""
      }
     },
     "metadata": {}
    },
    {
     "output_type": "display_data",
     "data": {
      "text/plain": "Validation: |          | 0/? [00:00<?, ?it/s]",
      "application/vnd.jupyter.widget-view+json": {
       "version_major": 2,
       "version_minor": 0,
       "model_id": ""
      }
     },
     "metadata": {}
    },
    {
     "output_type": "display_data",
     "data": {
      "text/plain": "Validation: |          | 0/? [00:00<?, ?it/s]",
      "application/vnd.jupyter.widget-view+json": {
       "version_major": 2,
       "version_minor": 0,
       "model_id": ""
      }
     },
     "metadata": {}
    },
    {
     "output_type": "display_data",
     "data": {
      "text/plain": "Validation: |          | 0/? [00:00<?, ?it/s]",
      "application/vnd.jupyter.widget-view+json": {
       "version_major": 2,
       "version_minor": 0,
       "model_id": ""
      }
     },
     "metadata": {}
    },
    {
     "output_type": "display_data",
     "data": {
      "text/plain": "Validation: |          | 0/? [00:00<?, ?it/s]",
      "application/vnd.jupyter.widget-view+json": {
       "version_major": 2,
       "version_minor": 0,
       "model_id": ""
      }
     },
     "metadata": {}
    },
    {
     "output_type": "display_data",
     "data": {
      "text/plain": "Validation: |          | 0/? [00:00<?, ?it/s]",
      "application/vnd.jupyter.widget-view+json": {
       "version_major": 2,
       "version_minor": 0,
       "model_id": ""
      }
     },
     "metadata": {}
    },
    {
     "output_type": "display_data",
     "data": {
      "text/plain": "Validation: |          | 0/? [00:00<?, ?it/s]",
      "application/vnd.jupyter.widget-view+json": {
       "version_major": 2,
       "version_minor": 0,
       "model_id": ""
      }
     },
     "metadata": {}
    },
    {
     "output_type": "display_data",
     "data": {
      "text/plain": "Validation: |          | 0/? [00:00<?, ?it/s]",
      "application/vnd.jupyter.widget-view+json": {
       "version_major": 2,
       "version_minor": 0,
       "model_id": ""
      }
     },
     "metadata": {}
    },
    {
     "output_type": "display_data",
     "data": {
      "text/plain": "Validation: |          | 0/? [00:00<?, ?it/s]",
      "application/vnd.jupyter.widget-view+json": {
       "version_major": 2,
       "version_minor": 0,
       "model_id": ""
      }
     },
     "metadata": {}
    },
    {
     "output_type": "display_data",
     "data": {
      "text/plain": "Validation: |          | 0/? [00:00<?, ?it/s]",
      "application/vnd.jupyter.widget-view+json": {
       "version_major": 2,
       "version_minor": 0,
       "model_id": ""
      }
     },
     "metadata": {}
    },
    {
     "output_type": "display_data",
     "data": {
      "text/plain": "Validation: |          | 0/? [00:00<?, ?it/s]",
      "application/vnd.jupyter.widget-view+json": {
       "version_major": 2,
       "version_minor": 0,
       "model_id": ""
      }
     },
     "metadata": {}
    },
    {
     "output_type": "display_data",
     "data": {
      "text/plain": "Validation: |          | 0/? [00:00<?, ?it/s]",
      "application/vnd.jupyter.widget-view+json": {
       "version_major": 2,
       "version_minor": 0,
       "model_id": ""
      }
     },
     "metadata": {}
    },
    {
     "output_type": "display_data",
     "data": {
      "text/plain": "Validation: |          | 0/? [00:00<?, ?it/s]",
      "application/vnd.jupyter.widget-view+json": {
       "version_major": 2,
       "version_minor": 0,
       "model_id": ""
      }
     },
     "metadata": {}
    },
    {
     "output_type": "display_data",
     "data": {
      "text/plain": "Validation: |          | 0/? [00:00<?, ?it/s]",
      "application/vnd.jupyter.widget-view+json": {
       "version_major": 2,
       "version_minor": 0,
       "model_id": ""
      }
     },
     "metadata": {}
    },
    {
     "output_type": "display_data",
     "data": {
      "text/plain": "Validation: |          | 0/? [00:00<?, ?it/s]",
      "application/vnd.jupyter.widget-view+json": {
       "version_major": 2,
       "version_minor": 0,
       "model_id": ""
      }
     },
     "metadata": {}
    },
    {
     "output_type": "display_data",
     "data": {
      "text/plain": "Validation: |          | 0/? [00:00<?, ?it/s]",
      "application/vnd.jupyter.widget-view+json": {
       "version_major": 2,
       "version_minor": 0,
       "model_id": ""
      }
     },
     "metadata": {}
    },
    {
     "output_type": "display_data",
     "data": {
      "text/plain": "Validation: |          | 0/? [00:00<?, ?it/s]",
      "application/vnd.jupyter.widget-view+json": {
       "version_major": 2,
       "version_minor": 0,
       "model_id": ""
      }
     },
     "metadata": {}
    },
    {
     "output_type": "display_data",
     "data": {
      "text/plain": "Validation: |          | 0/? [00:00<?, ?it/s]",
      "application/vnd.jupyter.widget-view+json": {
       "version_major": 2,
       "version_minor": 0,
       "model_id": ""
      }
     },
     "metadata": {}
    },
    {
     "output_type": "display_data",
     "data": {
      "text/plain": "Validation: |          | 0/? [00:00<?, ?it/s]",
      "application/vnd.jupyter.widget-view+json": {
       "version_major": 2,
       "version_minor": 0,
       "model_id": ""
      }
     },
     "metadata": {}
    },
    {
     "output_type": "display_data",
     "data": {
      "text/plain": "Validation: |          | 0/? [00:00<?, ?it/s]",
      "application/vnd.jupyter.widget-view+json": {
       "version_major": 2,
       "version_minor": 0,
       "model_id": ""
      }
     },
     "metadata": {}
    },
    {
     "output_type": "display_data",
     "data": {
      "text/plain": "Validation: |          | 0/? [00:00<?, ?it/s]",
      "application/vnd.jupyter.widget-view+json": {
       "version_major": 2,
       "version_minor": 0,
       "model_id": ""
      }
     },
     "metadata": {}
    },
    {
     "output_type": "display_data",
     "data": {
      "text/plain": "Validation: |          | 0/? [00:00<?, ?it/s]",
      "application/vnd.jupyter.widget-view+json": {
       "version_major": 2,
       "version_minor": 0,
       "model_id": ""
      }
     },
     "metadata": {}
    },
    {
     "output_type": "display_data",
     "data": {
      "text/plain": "Validation: |          | 0/? [00:00<?, ?it/s]",
      "application/vnd.jupyter.widget-view+json": {
       "version_major": 2,
       "version_minor": 0,
       "model_id": ""
      }
     },
     "metadata": {}
    },
    {
     "output_type": "display_data",
     "data": {
      "text/plain": "Validation: |          | 0/? [00:00<?, ?it/s]",
      "application/vnd.jupyter.widget-view+json": {
       "version_major": 2,
       "version_minor": 0,
       "model_id": ""
      }
     },
     "metadata": {}
    },
    {
     "output_type": "display_data",
     "data": {
      "text/plain": "Validation: |          | 0/? [00:00<?, ?it/s]",
      "application/vnd.jupyter.widget-view+json": {
       "version_major": 2,
       "version_minor": 0,
       "model_id": ""
      }
     },
     "metadata": {}
    },
    {
     "output_type": "display_data",
     "data": {
      "text/plain": "Validation: |          | 0/? [00:00<?, ?it/s]",
      "application/vnd.jupyter.widget-view+json": {
       "version_major": 2,
       "version_minor": 0,
       "model_id": ""
      }
     },
     "metadata": {}
    },
    {
     "output_type": "display_data",
     "data": {
      "text/plain": "Validation: |          | 0/? [00:00<?, ?it/s]",
      "application/vnd.jupyter.widget-view+json": {
       "version_major": 2,
       "version_minor": 0,
       "model_id": ""
      }
     },
     "metadata": {}
    },
    {
     "output_type": "display_data",
     "data": {
      "text/plain": "Validation: |          | 0/? [00:00<?, ?it/s]",
      "application/vnd.jupyter.widget-view+json": {
       "version_major": 2,
       "version_minor": 0,
       "model_id": ""
      }
     },
     "metadata": {}
    },
    {
     "output_type": "display_data",
     "data": {
      "text/plain": "Validation: |          | 0/? [00:00<?, ?it/s]",
      "application/vnd.jupyter.widget-view+json": {
       "version_major": 2,
       "version_minor": 0,
       "model_id": ""
      }
     },
     "metadata": {}
    },
    {
     "output_type": "display_data",
     "data": {
      "text/plain": "Validation: |          | 0/? [00:00<?, ?it/s]",
      "application/vnd.jupyter.widget-view+json": {
       "version_major": 2,
       "version_minor": 0,
       "model_id": ""
      }
     },
     "metadata": {}
    },
    {
     "output_type": "display_data",
     "data": {
      "text/plain": "Validation: |          | 0/? [00:00<?, ?it/s]",
      "application/vnd.jupyter.widget-view+json": {
       "version_major": 2,
       "version_minor": 0,
       "model_id": ""
      }
     },
     "metadata": {}
    },
    {
     "output_type": "display_data",
     "data": {
      "text/plain": "Validation: |          | 0/? [00:00<?, ?it/s]",
      "application/vnd.jupyter.widget-view+json": {
       "version_major": 2,
       "version_minor": 0,
       "model_id": ""
      }
     },
     "metadata": {}
    },
    {
     "output_type": "display_data",
     "data": {
      "text/plain": "Validation: |          | 0/? [00:00<?, ?it/s]",
      "application/vnd.jupyter.widget-view+json": {
       "version_major": 2,
       "version_minor": 0,
       "model_id": ""
      }
     },
     "metadata": {}
    },
    {
     "output_type": "display_data",
     "data": {
      "text/plain": "Validation: |          | 0/? [00:00<?, ?it/s]",
      "application/vnd.jupyter.widget-view+json": {
       "version_major": 2,
       "version_minor": 0,
       "model_id": ""
      }
     },
     "metadata": {}
    },
    {
     "output_type": "display_data",
     "data": {
      "text/plain": "Validation: |          | 0/? [00:00<?, ?it/s]",
      "application/vnd.jupyter.widget-view+json": {
       "version_major": 2,
       "version_minor": 0,
       "model_id": ""
      }
     },
     "metadata": {}
    },
    {
     "output_type": "display_data",
     "data": {
      "text/plain": "Validation: |          | 0/? [00:00<?, ?it/s]",
      "application/vnd.jupyter.widget-view+json": {
       "version_major": 2,
       "version_minor": 0,
       "model_id": ""
      }
     },
     "metadata": {}
    },
    {
     "output_type": "display_data",
     "data": {
      "text/plain": "Validation: |          | 0/? [00:00<?, ?it/s]",
      "application/vnd.jupyter.widget-view+json": {
       "version_major": 2,
       "version_minor": 0,
       "model_id": ""
      }
     },
     "metadata": {}
    },
    {
     "output_type": "display_data",
     "data": {
      "text/plain": "Validation: |          | 0/? [00:00<?, ?it/s]",
      "application/vnd.jupyter.widget-view+json": {
       "version_major": 2,
       "version_minor": 0,
       "model_id": ""
      }
     },
     "metadata": {}
    },
    {
     "output_type": "display_data",
     "data": {
      "text/plain": "Validation: |          | 0/? [00:00<?, ?it/s]",
      "application/vnd.jupyter.widget-view+json": {
       "version_major": 2,
       "version_minor": 0,
       "model_id": ""
      }
     },
     "metadata": {}
    },
    {
     "output_type": "display_data",
     "data": {
      "text/plain": "Validation: |          | 0/? [00:00<?, ?it/s]",
      "application/vnd.jupyter.widget-view+json": {
       "version_major": 2,
       "version_minor": 0,
       "model_id": ""
      }
     },
     "metadata": {}
    },
    {
     "output_type": "display_data",
     "data": {
      "text/plain": "Validation: |          | 0/? [00:00<?, ?it/s]",
      "application/vnd.jupyter.widget-view+json": {
       "version_major": 2,
       "version_minor": 0,
       "model_id": ""
      }
     },
     "metadata": {}
    },
    {
     "output_type": "display_data",
     "data": {
      "text/plain": "Validation: |          | 0/? [00:00<?, ?it/s]",
      "application/vnd.jupyter.widget-view+json": {
       "version_major": 2,
       "version_minor": 0,
       "model_id": ""
      }
     },
     "metadata": {}
    },
    {
     "output_type": "display_data",
     "data": {
      "text/plain": "Validation: |          | 0/? [00:00<?, ?it/s]",
      "application/vnd.jupyter.widget-view+json": {
       "version_major": 2,
       "version_minor": 0,
       "model_id": ""
      }
     },
     "metadata": {}
    },
    {
     "output_type": "display_data",
     "data": {
      "text/plain": "Validation: |          | 0/? [00:00<?, ?it/s]",
      "application/vnd.jupyter.widget-view+json": {
       "version_major": 2,
       "version_minor": 0,
       "model_id": ""
      }
     },
     "metadata": {}
    },
    {
     "output_type": "display_data",
     "data": {
      "text/plain": "Validation: |          | 0/? [00:00<?, ?it/s]",
      "application/vnd.jupyter.widget-view+json": {
       "version_major": 2,
       "version_minor": 0,
       "model_id": ""
      }
     },
     "metadata": {}
    },
    {
     "output_type": "display_data",
     "data": {
      "text/plain": "Validation: |          | 0/? [00:00<?, ?it/s]",
      "application/vnd.jupyter.widget-view+json": {
       "version_major": 2,
       "version_minor": 0,
       "model_id": ""
      }
     },
     "metadata": {}
    },
    {
     "output_type": "display_data",
     "data": {
      "text/plain": "Validation: |          | 0/? [00:00<?, ?it/s]",
      "application/vnd.jupyter.widget-view+json": {
       "version_major": 2,
       "version_minor": 0,
       "model_id": ""
      }
     },
     "metadata": {}
    },
    {
     "output_type": "display_data",
     "data": {
      "text/plain": "Validation: |          | 0/? [00:00<?, ?it/s]",
      "application/vnd.jupyter.widget-view+json": {
       "version_major": 2,
       "version_minor": 0,
       "model_id": ""
      }
     },
     "metadata": {}
    },
    {
     "output_type": "display_data",
     "data": {
      "text/plain": "Validation: |          | 0/? [00:00<?, ?it/s]",
      "application/vnd.jupyter.widget-view+json": {
       "version_major": 2,
       "version_minor": 0,
       "model_id": ""
      }
     },
     "metadata": {}
    },
    {
     "output_type": "display_data",
     "data": {
      "text/plain": "Validation: |          | 0/? [00:00<?, ?it/s]",
      "application/vnd.jupyter.widget-view+json": {
       "version_major": 2,
       "version_minor": 0,
       "model_id": ""
      }
     },
     "metadata": {}
    },
    {
     "output_type": "display_data",
     "data": {
      "text/plain": "Validation: |          | 0/? [00:00<?, ?it/s]",
      "application/vnd.jupyter.widget-view+json": {
       "version_major": 2,
       "version_minor": 0,
       "model_id": ""
      }
     },
     "metadata": {}
    },
    {
     "output_type": "display_data",
     "data": {
      "text/plain": "Validation: |          | 0/? [00:00<?, ?it/s]",
      "application/vnd.jupyter.widget-view+json": {
       "version_major": 2,
       "version_minor": 0,
       "model_id": ""
      }
     },
     "metadata": {}
    },
    {
     "output_type": "display_data",
     "data": {
      "text/plain": "Validation: |          | 0/? [00:00<?, ?it/s]",
      "application/vnd.jupyter.widget-view+json": {
       "version_major": 2,
       "version_minor": 0,
       "model_id": ""
      }
     },
     "metadata": {}
    },
    {
     "output_type": "display_data",
     "data": {
      "text/plain": "Validation: |          | 0/? [00:00<?, ?it/s]",
      "application/vnd.jupyter.widget-view+json": {
       "version_major": 2,
       "version_minor": 0,
       "model_id": ""
      }
     },
     "metadata": {}
    },
    {
     "output_type": "display_data",
     "data": {
      "text/plain": "Validation: |          | 0/? [00:00<?, ?it/s]",
      "application/vnd.jupyter.widget-view+json": {
       "version_major": 2,
       "version_minor": 0,
       "model_id": ""
      }
     },
     "metadata": {}
    },
    {
     "output_type": "display_data",
     "data": {
      "text/plain": "Validation: |          | 0/? [00:00<?, ?it/s]",
      "application/vnd.jupyter.widget-view+json": {
       "version_major": 2,
       "version_minor": 0,
       "model_id": ""
      }
     },
     "metadata": {}
    },
    {
     "output_type": "display_data",
     "data": {
      "text/plain": "Validation: |          | 0/? [00:00<?, ?it/s]",
      "application/vnd.jupyter.widget-view+json": {
       "version_major": 2,
       "version_minor": 0,
       "model_id": ""
      }
     },
     "metadata": {}
    },
    {
     "output_type": "display_data",
     "data": {
      "text/plain": "Validation: |          | 0/? [00:00<?, ?it/s]",
      "application/vnd.jupyter.widget-view+json": {
       "version_major": 2,
       "version_minor": 0,
       "model_id": ""
      }
     },
     "metadata": {}
    },
    {
     "output_type": "display_data",
     "data": {
      "text/plain": "Validation: |          | 0/? [00:00<?, ?it/s]",
      "application/vnd.jupyter.widget-view+json": {
       "version_major": 2,
       "version_minor": 0,
       "model_id": ""
      }
     },
     "metadata": {}
    },
    {
     "output_type": "display_data",
     "data": {
      "text/plain": "Validation: |          | 0/? [00:00<?, ?it/s]",
      "application/vnd.jupyter.widget-view+json": {
       "version_major": 2,
       "version_minor": 0,
       "model_id": ""
      }
     },
     "metadata": {}
    },
    {
     "output_type": "display_data",
     "data": {
      "text/plain": "Validation: |          | 0/? [00:00<?, ?it/s]",
      "application/vnd.jupyter.widget-view+json": {
       "version_major": 2,
       "version_minor": 0,
       "model_id": ""
      }
     },
     "metadata": {}
    },
    {
     "output_type": "display_data",
     "data": {
      "text/plain": "Validation: |          | 0/? [00:00<?, ?it/s]",
      "application/vnd.jupyter.widget-view+json": {
       "version_major": 2,
       "version_minor": 0,
       "model_id": ""
      }
     },
     "metadata": {}
    },
    {
     "output_type": "display_data",
     "data": {
      "text/plain": "Validation: |          | 0/? [00:00<?, ?it/s]",
      "application/vnd.jupyter.widget-view+json": {
       "version_major": 2,
       "version_minor": 0,
       "model_id": ""
      }
     },
     "metadata": {}
    },
    {
     "output_type": "display_data",
     "data": {
      "text/plain": "Validation: |          | 0/? [00:00<?, ?it/s]",
      "application/vnd.jupyter.widget-view+json": {
       "version_major": 2,
       "version_minor": 0,
       "model_id": ""
      }
     },
     "metadata": {}
    },
    {
     "output_type": "display_data",
     "data": {
      "text/plain": "Validation: |          | 0/? [00:00<?, ?it/s]",
      "application/vnd.jupyter.widget-view+json": {
       "version_major": 2,
       "version_minor": 0,
       "model_id": ""
      }
     },
     "metadata": {}
    },
    {
     "output_type": "display_data",
     "data": {
      "text/plain": "Validation: |          | 0/? [00:00<?, ?it/s]",
      "application/vnd.jupyter.widget-view+json": {
       "version_major": 2,
       "version_minor": 0,
       "model_id": ""
      }
     },
     "metadata": {}
    },
    {
     "output_type": "display_data",
     "data": {
      "text/plain": "Validation: |          | 0/? [00:00<?, ?it/s]",
      "application/vnd.jupyter.widget-view+json": {
       "version_major": 2,
       "version_minor": 0,
       "model_id": ""
      }
     },
     "metadata": {}
    },
    {
     "output_type": "display_data",
     "data": {
      "text/plain": "Validation: |          | 0/? [00:00<?, ?it/s]",
      "application/vnd.jupyter.widget-view+json": {
       "version_major": 2,
       "version_minor": 0,
       "model_id": ""
      }
     },
     "metadata": {}
    },
    {
     "output_type": "display_data",
     "data": {
      "text/plain": "Validation: |          | 0/? [00:00<?, ?it/s]",
      "application/vnd.jupyter.widget-view+json": {
       "version_major": 2,
       "version_minor": 0,
       "model_id": ""
      }
     },
     "metadata": {}
    },
    {
     "output_type": "display_data",
     "data": {
      "text/plain": "Validation: |          | 0/? [00:00<?, ?it/s]",
      "application/vnd.jupyter.widget-view+json": {
       "version_major": 2,
       "version_minor": 0,
       "model_id": ""
      }
     },
     "metadata": {}
    },
    {
     "output_type": "display_data",
     "data": {
      "text/plain": "Validation: |          | 0/? [00:00<?, ?it/s]",
      "application/vnd.jupyter.widget-view+json": {
       "version_major": 2,
       "version_minor": 0,
       "model_id": ""
      }
     },
     "metadata": {}
    },
    {
     "output_type": "display_data",
     "data": {
      "text/plain": "Validation: |          | 0/? [00:00<?, ?it/s]",
      "application/vnd.jupyter.widget-view+json": {
       "version_major": 2,
       "version_minor": 0,
       "model_id": ""
      }
     },
     "metadata": {}
    },
    {
     "output_type": "display_data",
     "data": {
      "text/plain": "Validation: |          | 0/? [00:00<?, ?it/s]",
      "application/vnd.jupyter.widget-view+json": {
       "version_major": 2,
       "version_minor": 0,
       "model_id": ""
      }
     },
     "metadata": {}
    },
    {
     "output_type": "display_data",
     "data": {
      "text/plain": "Validation: |          | 0/? [00:00<?, ?it/s]",
      "application/vnd.jupyter.widget-view+json": {
       "version_major": 2,
       "version_minor": 0,
       "model_id": ""
      }
     },
     "metadata": {}
    },
    {
     "output_type": "display_data",
     "data": {
      "text/plain": "Validation: |          | 0/? [00:00<?, ?it/s]",
      "application/vnd.jupyter.widget-view+json": {
       "version_major": 2,
       "version_minor": 0,
       "model_id": ""
      }
     },
     "metadata": {}
    },
    {
     "output_type": "display_data",
     "data": {
      "text/plain": "Validation: |          | 0/? [00:00<?, ?it/s]",
      "application/vnd.jupyter.widget-view+json": {
       "version_major": 2,
       "version_minor": 0,
       "model_id": ""
      }
     },
     "metadata": {}
    },
    {
     "output_type": "display_data",
     "data": {
      "text/plain": "Validation: |          | 0/? [00:00<?, ?it/s]",
      "application/vnd.jupyter.widget-view+json": {
       "version_major": 2,
       "version_minor": 0,
       "model_id": ""
      }
     },
     "metadata": {}
    },
    {
     "output_type": "display_data",
     "data": {
      "text/plain": "Validation: |          | 0/? [00:00<?, ?it/s]",
      "application/vnd.jupyter.widget-view+json": {
       "version_major": 2,
       "version_minor": 0,
       "model_id": ""
      }
     },
     "metadata": {}
    },
    {
     "output_type": "display_data",
     "data": {
      "text/plain": "Validation: |          | 0/? [00:00<?, ?it/s]",
      "application/vnd.jupyter.widget-view+json": {
       "version_major": 2,
       "version_minor": 0,
       "model_id": ""
      }
     },
     "metadata": {}
    },
    {
     "output_type": "display_data",
     "data": {
      "text/plain": "Validation: |          | 0/? [00:00<?, ?it/s]",
      "application/vnd.jupyter.widget-view+json": {
       "version_major": 2,
       "version_minor": 0,
       "model_id": ""
      }
     },
     "metadata": {}
    },
    {
     "output_type": "display_data",
     "data": {
      "text/plain": "Validation: |          | 0/? [00:00<?, ?it/s]",
      "application/vnd.jupyter.widget-view+json": {
       "version_major": 2,
       "version_minor": 0,
       "model_id": ""
      }
     },
     "metadata": {}
    },
    {
     "output_type": "display_data",
     "data": {
      "text/plain": "Validation: |          | 0/? [00:00<?, ?it/s]",
      "application/vnd.jupyter.widget-view+json": {
       "version_major": 2,
       "version_minor": 0,
       "model_id": ""
      }
     },
     "metadata": {}
    },
    {
     "output_type": "display_data",
     "data": {
      "text/plain": "Validation: |          | 0/? [00:00<?, ?it/s]",
      "application/vnd.jupyter.widget-view+json": {
       "version_major": 2,
       "version_minor": 0,
       "model_id": ""
      }
     },
     "metadata": {}
    },
    {
     "output_type": "display_data",
     "data": {
      "text/plain": "Validation: |          | 0/? [00:00<?, ?it/s]",
      "application/vnd.jupyter.widget-view+json": {
       "version_major": 2,
       "version_minor": 0,
       "model_id": ""
      }
     },
     "metadata": {}
    },
    {
     "traceback": [
      "\u001B[0;31m---------------------------------------------------------------------------\u001B[0m",
      "\u001B[0;31mNameError\u001B[0m                                 Traceback (most recent call last)",
      "Cell \u001B[0;32mIn[6], line 46\u001B[0m\n\u001B[1;32m     43\u001B[0m trainer\u001B[38;5;241m.\u001B[39mfit(model, datamodule\u001B[38;5;241m=\u001B[39mdata_module)\n\u001B[1;32m     45\u001B[0m \u001B[38;5;66;03m# ##################################################### EVA ###################################################\u001B[39;00m\n\u001B[0;32m---> 46\u001B[0m \u001B[43m确保模型处于评估模式\u001B[49m\n\u001B[1;32m     47\u001B[0m model\u001B[38;5;241m.\u001B[39meval()\n\u001B[1;32m     48\u001B[0m \u001B[38;5;28mprint\u001B[39m(\u001B[38;5;124m\"\u001B[39m\u001B[38;5;124meval activated\u001B[39m\u001B[38;5;124m\"\u001B[39m)\n",
      "\u001B[0;31mNameError\u001B[0m: name '确保模型处于评估模式' is not defined"
     ],
     "ename": "NameError",
     "evalue": "name '确保模型处于评估模式' is not defined",
     "output_type": "error"
    }
   ]
  },
  {
   "cell_type": "code",
   "source": [
    "wandb.finish()"
   ],
   "metadata": {
    "execution": {
     "iopub.status.busy": "2024-04-07T10:24:44.410233Z",
     "iopub.execute_input": "2024-04-07T10:24:44.411099Z",
     "iopub.status.idle": "2024-04-07T10:24:49.055324Z",
     "shell.execute_reply.started": "2024-04-07T10:24:44.411067Z",
     "shell.execute_reply": "2024-04-07T10:24:49.054637Z"
    },
    "trusted": true
   },
   "execution_count": null,
   "outputs": []
  },
  {
   "cell_type": "code",
   "source": [
    "# def predict_and_log_images(num_samples=2):\n",
    "    \n",
    "#     # 假设 test_loader 和 model 已经定义好了，并且 model 已经移动到了适当的设备\n",
    "#     device = torch.device(\"cuda\" if torch.cuda.is_available() else \"cpu\")\n",
    "#     model.to(device)\n",
    "#     test_loader = data_module.test_dataloader()\n",
    "    \n",
    "#     # 生成随机索引\n",
    "#     indices = torch.randperm(len(test_loader.dataset))[:num_samples]\n",
    "#     # 调整subplot的大小\n",
    "#     fig, axs = plt.subplots(num_samples, 3, figsize=(15, 5 * num_samples))  # 每个样本显示3张图（原图、真实掩码、预测掩码）\n",
    "\n",
    "#     for i, idx in enumerate(indices):\n",
    "#         image, mask = test_loader.dataset[idx]\n",
    "#         image = image.unsqueeze(0).to(device)  # 添加batch维度并移动到设备\n",
    "#         mask = mask.squeeze()  # 移除batch维度（如果有的话）\n",
    "\n",
    "#         with torch.no_grad():\n",
    "#             pred = model(image)\n",
    "#             prediction = torch.argmax(pred, dim=1).cpu()  # 获取预测类别并移回CPU\n",
    "\n",
    "#         # 显示原始图像\n",
    "#         axs[i, 0].imshow(image.squeeze().cpu().numpy(), cmap='gray')\n",
    "#         axs[i, 0].set_title(f'Original Image {i+1}')\n",
    "#         axs[i, 0].axis('off')\n",
    "\n",
    "#         # 显示Ground Truth\n",
    "#         axs[i, 1].imshow(mask.cpu().numpy(), cmap='viridis')\n",
    "#         axs[i, 1].set_title(f'True Mask {i+1}')\n",
    "#         axs[i, 1].axis('off')\n",
    "\n",
    "#         # 显示预测掩码\n",
    "#         axs[i, 2].imshow(prediction[0].numpy(), cmap='viridis')\n",
    "#         axs[i, 2].set_title(f'Predicted Mask {i+1}')\n",
    "#         axs[i, 2].axis('off')\n",
    "\n",
    "#     plt.tight_layout()\n",
    "#     plt.close(fig)  # 防止在notebook中显示图像\n",
    "#     return fig\n",
    "# 循环十次，每次都记录图像\n",
    "# 确保模型处于评估模式\n",
    "model.eval()\n",
    "print(\"eval activated\")\n",
    "for _ in range(10):\n",
    "    fig = predict_and_log_images(num_samples=2)\n",
    "    wandb.log({\"Predicted Images 2\": wandb.Image(fig)})\n",
    "print(\"images logged\")"
   ],
   "metadata": {
    "_uuid": "ca2de490-a6d3-442b-ae6f-6ec9c9ed6d70",
    "_cell_guid": "b7ef133e-78ff-4942-b372-18d4909f3531",
    "collapsed": false,
    "execution": {
     "iopub.status.busy": "2024-04-10T09:53:40.658595Z",
     "iopub.execute_input": "2024-04-10T09:53:40.659021Z",
     "iopub.status.idle": "2024-04-10T09:53:53.117065Z",
     "shell.execute_reply.started": "2024-04-10T09:53:40.658992Z",
     "shell.execute_reply": "2024-04-10T09:53:53.115842Z"
    },
    "trusted": true
   },
   "execution_count": 7,
   "outputs": [
    {
     "name": "stdout",
     "text": "eval activated\nimages logged\n",
     "output_type": "stream"
    }
   ]
  },
  {
   "cell_type": "code",
   "source": [
    "trainer.validate(model, datamodule=data_module)"
   ],
   "metadata": {
    "_uuid": "3b5689d1-ff8c-4930-88fa-c9dfa38f5195",
    "_cell_guid": "5725cdac-948a-4953-8a35-18186f67bdb1",
    "execution": {
     "iopub.status.busy": "2024-04-10T09:56:09.481270Z",
     "iopub.execute_input": "2024-04-10T09:56:09.482272Z",
     "iopub.status.idle": "2024-04-10T09:56:11.928057Z",
     "shell.execute_reply.started": "2024-04-10T09:56:09.482236Z",
     "shell.execute_reply": "2024-04-10T09:56:11.926807Z"
    },
    "trusted": true
   },
   "execution_count": 8,
   "outputs": [
    {
     "output_type": "display_data",
     "data": {
      "text/plain": "Validation: |          | 0/? [00:00<?, ?it/s]",
      "application/vnd.jupyter.widget-view+json": {
       "version_major": 2,
       "version_minor": 0,
       "model_id": "85f93149f47e48e78d279937964aa4bf"
      }
     },
     "metadata": {}
    },
    {
     "execution_count": 8,
     "output_type": "execute_result",
     "data": {
      "text/plain": "[{}]"
     },
     "metadata": {}
    }
   ]
  },
  {
   "cell_type": "markdown",
   "source": [
    "# Following Process (Continual Training)"
   ],
   "metadata": {}
  },
  {
   "cell_type": "markdown",
   "source": [
    "**if you just finished up training above**"
   ],
   "metadata": {}
  },
  {
   "cell_type": "code",
   "source": [
    "import os\n",
    "\n",
    "def list_files(startpath):\n",
    "    for root, dirs, files in os.walk(startpath):\n",
    "        level = root.replace(startpath, '').count(os.sep)\n",
    "        indent = ' ' * 4 * (level)\n",
    "        print(f'{indent}{os.path.basename(root)}/')\n",
    "        subindent = ' ' * 4 * (level + 1)\n",
    "        for f in files:\n",
    "            print(f'{subindent}{f}')\n",
    "\n",
    "# 指定你的目录路径\n",
    "directory_path = '/kaggle/working/UNet Compare/'\n",
    "list_files(directory_path)"
   ],
   "metadata": {
    "execution": {
     "iopub.status.busy": "2024-04-10T09:56:19.389369Z",
     "iopub.execute_input": "2024-04-10T09:56:19.390297Z",
     "iopub.status.idle": "2024-04-10T09:56:19.401661Z",
     "shell.execute_reply.started": "2024-04-10T09:56:19.390262Z",
     "shell.execute_reply": "2024-04-10T09:56:19.400708Z"
    },
    "trusted": true
   },
   "execution_count": 9,
   "outputs": [
    {
     "name": "stdout",
     "text": "/\nygf7rtvn/\n    checkpoints/\n        epoch=119-step=3960.ckpt\n",
     "output_type": "stream"
    }
   ]
  },
  {
   "cell_type": "code",
   "source": [
    "# 创建一个新的Artifact，指定其类型为'model'和Artifact的名称\n",
    "artifact = wandb.Artifact('MViTUNet_Max120_DiceCELoss_basicAUG', type='model')\n",
    "artifact.add_file('/kaggle/working/UNet Compare/ygf7rtvn/checkpoints/epoch=119-step=3960.ckpt')\n",
    "\n",
    "# 保存Artifact到wandb\n",
    "wandb.log_artifact(artifact)"
   ],
   "metadata": {
    "_uuid": "51fc1ba5-2cb0-4d6c-9869-a2818e01d7a2",
    "_cell_guid": "ddb49941-070c-4aba-8d7b-d77746b33eea",
    "collapsed": false,
    "execution": {
     "iopub.status.busy": "2024-04-10T09:57:10.046592Z",
     "iopub.execute_input": "2024-04-10T09:57:10.047513Z",
     "iopub.status.idle": "2024-04-10T09:57:11.576750Z",
     "shell.execute_reply.started": "2024-04-10T09:57:10.047480Z",
     "shell.execute_reply": "2024-04-10T09:57:11.575667Z"
    },
    "trusted": true
   },
   "execution_count": 10,
   "outputs": [
    {
     "execution_count": 10,
     "output_type": "execute_result",
     "data": {
      "text/plain": "<Artifact MViTUNet_Max120_DiceCELoss_basicAUG>"
     },
     "metadata": {}
    }
   ]
  },
  {
   "cell_type": "markdown",
   "source": [
    "**if you want to continual training from wandb**"
   ],
   "metadata": {}
  },
  {
   "cell_type": "code",
   "source": [
    "wandb.login()\n",
    "artifact_dir = WandbLogger.download_artifact(artifact=\"southern/UNet Compare/ResUNet_Max120_DiceCELossWithKL_basicAug:v0\")\n",
    "model_ckpt = UNetTestModel.load_from_checkpoint('/kaggle/working/artifacts/ResUNet_Max120_DiceCELossWithKL_basicAug:v0/epoch=119-step=3960.ckpt')"
   ],
   "metadata": {
    "execution": {
     "iopub.status.busy": "2024-04-08T09:53:21.985285Z",
     "iopub.execute_input": "2024-04-08T09:53:21.985997Z",
     "iopub.status.idle": "2024-04-08T09:53:26.063766Z",
     "shell.execute_reply.started": "2024-04-08T09:53:21.985968Z",
     "shell.execute_reply": "2024-04-08T09:53:26.062981Z"
    },
    "trusted": true
   },
   "execution_count": null,
   "outputs": []
  },
  {
   "cell_type": "code",
   "source": [
    "# 定义数据增强\n",
    "train_transform = A.Compose([\n",
    "    A.Resize(256, 256),\n",
    "    A.HorizontalFlip(p=0.2),\n",
    "    A.VerticalFlip(p=0.2),\n",
    "    A.RandomRotate90(),\n",
    "#     A.RandomBrightnessContrast(p=0.2),\n",
    "    A.ElasticTransform(p=0.5, alpha=120, sigma=120 * 0.3, alpha_affine=120 * 0.2),\n",
    "    A.RandomSizedCrop(min_max_height=(128, 256), height=256, width=256, p=0.5),\n",
    "    # A.Normalize(mean=(0.5,), std=(0.5,)),\n",
    "    ToTensorV2(),\n",
    "])\n",
    "\n",
    "val_transform = A.Compose([\n",
    "    A.Resize(256, 256),\n",
    "    # A.Normalize(mean=(0.5,), std=(0.5,)),\n",
    "    ToTensorV2(),\n",
    "])\n",
    "\n",
    "def adjust_window(image, window_center, window_width):\n",
    "    \"\"\"\n",
    "    调整CT图像的窗宽窗位。\n",
    "    :param image: 输入的图像数组。\n",
    "    :param window_center: 窗位（WC）。\n",
    "    :param window_width: 窗宽（WW）。\n",
    "    :return: 调整窗宽窗位后的图像。\n",
    "    \"\"\"\n",
    "    img_min = window_center - window_width // 2\n",
    "    img_max = window_center + window_width // 2\n",
    "    windowed_img = np.clip(image, img_min, img_max)\n",
    "    # print(windowed_img.dtype) # NOW its float64\n",
    "    return windowed_img\n",
    "\n",
    "class MultipleImageDataset(Dataset):\n",
    "    def __init__(self, image_paths, label_paths, transform=None):\n",
    "        \"\"\"\n",
    "        image_paths: 图像文件路径列表\n",
    "        label_paths: 标签文件路径列表\n",
    "        transform: 应用于图像和标签的转换操作\n",
    "        \"\"\"\n",
    "        self.image_paths = image_paths\n",
    "        self.label_paths = label_paths\n",
    "        self.transform = transform\n",
    "\n",
    "    def __len__(self):\n",
    "        # 假设图像和标签列表长度相等\n",
    "        return len(self.image_paths)\n",
    "\n",
    "    def __getitem__(self, idx): # dataloader获取每个数据都会用到这个函数，所以你应当在这里实现你需要的\n",
    "                                # 预处理等等步骤\n",
    "        image = (np.load(self.image_paths[idx]))['arr_0'] \n",
    "#         print(image.shape)\n",
    "        label = (np.load(self.label_paths[idx]))['arr_0']\n",
    "#         print(label.shape)\n",
    "\n",
    "        image = adjust_window(image, window_center=40, window_width=400)\n",
    "\n",
    "        if self.transform:\n",
    "#             image = image.astype(np.float32)\n",
    "            augmented = self.transform(image=image, mask=label)\n",
    "            image = augmented['image']\n",
    "#             print(\"image aug\")\n",
    "            label = augmented['mask']\n",
    "            image = image.float()\n",
    "            label = label.long()\n",
    "\n",
    "        label = label.long()\n",
    "        image = (image - image.min()) / (image.max() - image.min())\n",
    "        return image.float(), label.long()\n",
    "######################################################################################################################\n",
    "class MOADataModule(LightningDataModule):\n",
    "    def __init__(self, data_dir: str, batch_size: int = 16):\n",
    "        super().__init__()\n",
    "        self.data_dir = data_dir\n",
    "        self.batch_size = batch_size\n",
    "        self.train_transform = train_transform\n",
    "        self.val_transform = val_transform\n",
    "\n",
    "    def setup(self, stage=None):\n",
    "        image_dir = os.path.join(self.data_dir, 'image_npz')  # 注意这里路径的更正\n",
    "        label_dir = os.path.join(self.data_dir, 'mask_npz')\n",
    "\n",
    "        # 读取文件路径\n",
    "        image_files = sorted([os.path.join(image_dir, f) for f in os.listdir(image_dir) if f.endswith('.npz')])\n",
    "        label_files = sorted([os.path.join(label_dir, f) for f in os.listdir(label_dir) if f.endswith('.npz')])\n",
    "\n",
    "        # 划分训练集、验证集、测试集\n",
    "        train_size = int(0.8 * len(image_files))\n",
    "        val_size = int(0.1 * len(image_files))\n",
    "\n",
    "        self.train_image_paths = image_files[:train_size]\n",
    "        self.val_image_paths = image_files[train_size:train_size + val_size]\n",
    "        self.test_image_paths = image_files[train_size + val_size:]\n",
    "\n",
    "        self.train_label_paths = label_files[:train_size]\n",
    "        self.val_label_paths = label_files[train_size:train_size + val_size]\n",
    "        self.test_label_paths = label_files[train_size + val_size:]\n",
    "\n",
    "    def train_dataloader(self):\n",
    "        train_dataset = MultipleImageDataset(self.train_image_paths, self.train_label_paths, transform=self.train_transform)\n",
    "        return DataLoader(train_dataset, batch_size=self.batch_size, shuffle=True, num_workers=4, pin_memory=True)\n",
    "\n",
    "    def val_dataloader(self):\n",
    "        val_dataset = MultipleImageDataset(self.val_image_paths, self.val_label_paths, transform=self.val_transform)\n",
    "        return DataLoader(val_dataset, batch_size=self.batch_size, shuffle=False, num_workers=2, pin_memory=True)\n",
    "\n",
    "    def test_dataloader(self):\n",
    "        test_dataset = MultipleImageDataset(self.test_image_paths, self.test_label_paths, transform=self.val_transform)\n",
    "        return DataLoader(test_dataset, batch_size=self.batch_size, shuffle=False, num_workers=2, pin_memory=True)\n",
    "\n",
    "# 定义数据集和数据加载器\n",
    "# WARNING: 下面的数据目录是针对特定Kaggle数据集的示例路径。\n",
    "#          请根据您的实际数据集位置修改此路径。\n",
    "data_dir = '/kaggle/input/aug-dataset-for-fine-tune/AUG_dataset'\n",
    "\n",
    "\n",
    "def draw_bounding_boxes(ax, mask, class_ids):\n",
    "    \"\"\" 在给定的轴上绘制边界框，突出显示特定类别 \"\"\"\n",
    "    for class_id in class_ids:\n",
    "        positions = np.argwhere(mask == class_id)\n",
    "        if positions.size > 0:\n",
    "            xmin, xmax = positions[:, 0].min(), positions[:, 0].max()\n",
    "            ymin, ymax = positions[:, 1].min(), positions[:, 1].max()\n",
    "            rect = Rectangle((ymin, xmin), ymax - ymin, xmax - xmin, linewidth=2, edgecolor='red', facecolor='none')\n",
    "            ax.add_patch(rect)\n",
    "            ax.text(ymin, xmin, f'Class {class_id}', color='red', fontsize=12, va='top', ha='left')\n",
    "\n",
    "def predict_and_log_images(num_samples=2, model=model_ckpt, data_module=None):\n",
    "    device = torch.device(\"cuda\" if torch.cuda.is_available() else \"cpu\")\n",
    "    model.to(device)\n",
    "    test_loader = data_module.test_dataloader()\n",
    "\n",
    "    # 生成随机索引\n",
    "    indices = torch.randperm(len(test_loader.dataset))[:num_samples]\n",
    "    special_classes = [4, 5, 10, 12, 13]\n",
    "\n",
    "    fig, axs = plt.subplots(num_samples, 3, figsize=(15, 5 * num_samples))\n",
    "    cmap = plt.get_cmap('tab20')\n",
    "    for i, idx in enumerate(indices):\n",
    "        image, mask = test_loader.dataset[idx]\n",
    "        class_labels = np.unique(mask)\n",
    "        colors = [cmap(i) for i in np.linspace(0, 1, len(class_labels))]\n",
    "        image = image.unsqueeze(0).to(device)\n",
    "        mask = mask.squeeze()\n",
    "\n",
    "        with torch.no_grad():\n",
    "            pred = model(image)\n",
    "            prediction = torch.argmax(pred, dim=1).cpu().squeeze()\n",
    "\n",
    "        axs[i, 0].imshow(image.squeeze().cpu().numpy(), cmap='gray')\n",
    "        axs[i, 0].set_title(f'Original Image {i+1}')\n",
    "        axs[i, 0].axis('off')\n",
    "\n",
    "        axs[i, 1].imshow(mask.cpu().numpy(), cmap='tab20')\n",
    "        axs[i, 1].set_title(f'True Mask {i+1}')\n",
    "        axs[i, 1].axis('off')\n",
    "\n",
    "        axs[i, 2].imshow(prediction.numpy(), cmap='tab20')\n",
    "        axs[i, 2].set_title(f'Predicted Mask {i+1}')\n",
    "        axs[i, 2].axis('off')\n",
    "\n",
    "        # 在真实和预测掩码上绘制边界框\n",
    "        draw_bounding_boxes(axs[i, 1], mask.cpu().numpy(), special_classes)\n",
    "        draw_bounding_boxes(axs[i, 2], prediction.numpy(), special_classes)\n",
    "\n",
    "    legend_elements = [Patch(facecolor=colors[i], label=f'Class {class_labels[i]}') for i in range(len(class_labels))]\n",
    "    fig.legend(handles=legend_elements, loc='upper center', ncol=len(class_labels), title=\"Classes\")\n",
    "    plt.tight_layout()\n",
    "    plt.close(fig)  # 防止在notebook中显示图像\n",
    "\n",
    "    return fig\n",
    "\n",
    "\n",
    "class ValidationCallback(Callback):\n",
    "    def on_validation_epoch_end(self, trainer, pl_module):\n",
    "        # 每10个epoch执行一次\n",
    "        if (trainer.current_epoch + 1) % 1 == 0:\n",
    "            fig = predict_and_log_images(num_samples=2,model=model_ckpt,data_module=data_module)\n",
    "            # 用wandb记录图像，或进行其他操作\n",
    "            wandb.log({\"Validation Callback Predicted Images\": wandb.Image(fig)})"
   ],
   "metadata": {
    "execution": {
     "iopub.status.busy": "2024-04-08T10:07:37.011631Z",
     "iopub.execute_input": "2024-04-08T10:07:37.012048Z",
     "iopub.status.idle": "2024-04-08T10:07:37.049128Z",
     "shell.execute_reply.started": "2024-04-08T10:07:37.012020Z",
     "shell.execute_reply": "2024-04-08T10:07:37.048108Z"
    },
    "jupyter": {
     "source_hidden": true
    },
    "trusted": true
   },
   "execution_count": null,
   "outputs": []
  },
  {
   "cell_type": "code",
   "source": [
    "\n",
    "#  初始化数据模块\n",
    "data_module = MOADataModule(data_dir='/kaggle/input/aug-dataset-for-fine-tune/AUG_dataset', batch_size=16)\n",
    "# 设置数据模块（准备数据）\n",
    "data_module.setup()\n",
    "# 设置设备\n",
    "device = torch.device(\"cuda\" if torch.cuda.is_available() else \"cpu\")\n",
    "model_ckpt.to(device)\n",
    "model_ckpt.eval()  # 设置为评估模式\n",
    "\n",
    "# 获取测试数据\n",
    "test_loader = data_module.test_dataloader()\n",
    "special_classes = [4, 5, 10, 12, 13]\n",
    "# 取一个批次的数据进行演示\n",
    "for images, masks in test_loader:\n",
    "    images, masks = images.to(device), masks.to(device)\n",
    "    with torch.no_grad():\n",
    "        predictions = model_ckpt(images)  # 进行预测\n",
    "    predictions = torch.argmax(predictions, dim=1)  # 转换成类别标签\n",
    "    break  # 这里我们只处理一个批次作为示例\n",
    "\n",
    "# 将数据转移到CPU并转换为numpy\n",
    "images = images.cpu().numpy()\n",
    "masks = masks.cpu().numpy()\n",
    "predictions = predictions.cpu().numpy()\n",
    "\n",
    "# 显示图像、真实掩码和预测掩码\n",
    "fig, axs = plt.subplots(len(images), 3, figsize=(20, 5 * len(images)))  # 根据批次大小设置子图\n",
    "class_labels = np.unique(masks)  # 获取类别标签\n",
    "cmap = plt.get_cmap('tab20')  # 获取颜色映射\n",
    "colors = [cmap(i) for i in np.linspace(0, 1, len(class_labels))]\n",
    "\n",
    "for i, (img, mask, pred) in enumerate(zip(images, masks, predictions)):\n",
    "    axs[i, 0].imshow(img[0], cmap='gray')  # 假设图片是单通道的\n",
    "    axs[i, 0].set_title('Original Image')\n",
    "    axs[i, 0].axis('off')\n",
    "\n",
    "    axs[i, 1].imshow(mask, cmap=cmap)  # 假设掩码是单通道的\n",
    "    axs[i, 1].set_title('True Mask')\n",
    "    axs[i, 1].axis('off')\n",
    "\n",
    "    axs[i, 2].imshow(pred, cmap=cmap)\n",
    "    axs[i, 2].set_title('Predicted Mask')\n",
    "    axs[i, 2].axis('off')\n",
    "    \n",
    "    draw_bounding_boxes(axs[i, 1], mask, special_classes)\n",
    "    draw_bounding_boxes(axs[i, 2], mask, special_classes)\n",
    "\n",
    "# 创建图例\n",
    "legend_elements = [Patch(facecolor=colors[i], label=f'Class {class_labels[i]}') for i in range(len(class_labels))]\n",
    "fig.legend(handles=legend_elements, loc='upper center', bbox_to_anchor=(0.5, 1), ncol=len(class_labels), title=\"Classes\")\n",
    "\n",
    "plt.tight_layout(rect=[0, 0.03, 1, 0.95])  # 调整子图布局，留出底部空间给图例\n",
    "\n",
    "plt.show()\n"
   ],
   "metadata": {
    "execution": {
     "iopub.status.busy": "2024-04-08T10:11:35.925941Z",
     "iopub.execute_input": "2024-04-08T10:11:35.926317Z",
     "iopub.status.idle": "2024-04-08T10:11:43.419927Z",
     "shell.execute_reply.started": "2024-04-08T10:11:35.926284Z",
     "shell.execute_reply": "2024-04-08T10:11:43.418868Z"
    },
    "trusted": true
   },
   "execution_count": null,
   "outputs": []
  },
  {
   "cell_type": "code",
   "source": [
    "\n",
    "# wandb_logger = WandbLogger(project=\"SMU MOA\", name=\"ResUNetPP50_monaiDiceCELoss_Max150\")\n",
    "wandb_logger = WandbLogger(project=\"UNet Compare\", name=\"Continual_ResUNet_Max120+120_DiceCELosswithKL_HeavyAug_FreqAug\")\n",
    "# wandb_logger = WandbLogger()\n",
    "\n",
    "# 设置ModelCheckpoint以每20轮保存一次模型\n",
    "checkpoint_callback = ModelCheckpoint(\n",
    "    dirpath='my_model/',  # 模型保存路径\n",
    "    filename='model-{epoch:02d}',  # 文件名包含 epoch\n",
    "    save_top_k=-1,  # 设置为 -1 以保存所有检查点\n",
    "    every_n_epochs=20,  # 每20轮保存一次\n",
    "    save_on_train_epoch_end=True  # 确保在训练轮结束时保存\n",
    ")\n",
    "\n",
    "lr_monitor = LearningRateMonitor(logging_interval='step')\n",
    "# 假设你已经定义了 LiTSDataModule\n",
    "data_module = MOADataModule(data_dir=data_dir, batch_size=16)\n",
    "# 初始化模型和训练器\n",
    "model = UNetTestModel()\n",
    "\n",
    "\n",
    "\n",
    "\n",
    "trainer = Trainer(max_epochs=120, \n",
    "#                      fast_dev_run=True, \n",
    "                  logger=wandb_logger, \n",
    "                  callbacks=[lr_monitor, checkpoint_callback, ValidationCallback()],\n",
    "#                   callbacks=[lr_monitor],\n",
    "                  log_every_n_steps=1,\n",
    "                  check_val_every_n_epoch=1,\n",
    "#                   precision='16-mixed',\n",
    "                  )\n",
    "\n",
    "# 使用更新后的学习率继续训练\n",
    "trainer.fit(model, datamodule=data_module)\n",
    "\n",
    "#  初始化数据模块\n",
    "data_module = MOADataModule(data_dir='/kaggle/input/aug-dataset-for-fine-tune/AUG_dataset', batch_size=16)\n",
    "# 设置数据模块（准备数据）\n",
    "data_module.setup()\n",
    "# 设置设备\n",
    "device = torch.device(\"cuda\" if torch.cuda.is_available() else \"cpu\")\n",
    "model_ckpt.to(device)\n",
    "model_ckpt.eval()  # 设置为评估模式\n",
    "\n",
    "# 获取测试数据\n",
    "test_loader = data_module.test_dataloader()\n",
    "special_classes = [4, 5, 10, 12, 13]\n",
    "# 取一个批次的数据进行演示\n",
    "for images, masks in test_loader:\n",
    "    images, masks = images.to(device), masks.to(device)\n",
    "    with torch.no_grad():\n",
    "        predictions = model_ckpt(images)  # 进行预测\n",
    "    predictions = torch.argmax(predictions, dim=1)  # 转换成类别标签\n",
    "    break  # 这里我们只处理一个批次作为示例\n",
    "\n",
    "# 将数据转移到CPU并转换为numpy\n",
    "images = images.cpu().numpy()\n",
    "masks = masks.cpu().numpy()\n",
    "predictions = predictions.cpu().numpy()\n",
    "\n",
    "# 显示图像、真实掩码和预测掩码\n",
    "fig, axs = plt.subplots(len(images), 3, figsize=(20, 5 * len(images)))  # 根据批次大小设置子图\n",
    "class_labels = np.unique(masks)  # 获取类别标签\n",
    "cmap = plt.get_cmap('tab20')  # 获取颜色映射\n",
    "colors = [cmap(i) for i in np.linspace(0, 1, len(class_labels))]\n",
    "\n",
    "for i, (img, mask, pred) in enumerate(zip(images, masks, predictions)):\n",
    "    axs[i, 0].imshow(img[0], cmap='gray')  # 假设图片是单通道的\n",
    "    axs[i, 0].set_title('Original Image')\n",
    "    axs[i, 0].axis('off')\n",
    "\n",
    "    axs[i, 1].imshow(mask, cmap=cmap)  # 假设掩码是单通道的\n",
    "    axs[i, 1].set_title('True Mask')\n",
    "    axs[i, 1].axis('off')\n",
    "\n",
    "    axs[i, 2].imshow(pred, cmap=cmap)\n",
    "    axs[i, 2].set_title('Predicted Mask')\n",
    "    axs[i, 2].axis('off')\n",
    "    \n",
    "    draw_bounding_boxes(axs[i, 1], mask, special_classes)\n",
    "    draw_bounding_boxes(axs[i, 2], mask, special_classes)\n",
    "\n",
    "# 创建图例\n",
    "legend_elements = [Patch(facecolor=colors[i], label=f'Class {class_labels[i]}') for i in range(len(class_labels))]\n",
    "fig.legend(handles=legend_elements, loc='upper center', bbox_to_anchor=(0.5, 1), ncol=len(class_labels), title=\"Classes\")\n",
    "\n",
    "plt.tight_layout(rect=[0, 0.03, 1, 0.95])  # 调整子图布局，留出底部空间给图例\n",
    "plt.show()\n",
    "wandb.log({\"Predicted Images After Continual Train\": wandb.Image(fig)})\n"
   ],
   "metadata": {
    "trusted": true
   },
   "execution_count": null,
   "outputs": []
  },
  {
   "cell_type": "code",
   "source": [
    "wandb.finish()"
   ],
   "metadata": {
    "execution": {
     "iopub.status.busy": "2024-04-08T06:03:01.322885Z",
     "iopub.execute_input": "2024-04-08T06:03:01.323294Z",
     "iopub.status.idle": "2024-04-08T06:03:05.278641Z",
     "shell.execute_reply.started": "2024-04-08T06:03:01.323241Z",
     "shell.execute_reply": "2024-04-08T06:03:05.277748Z"
    },
    "trusted": true
   },
   "execution_count": null,
   "outputs": []
  }
 ]
}
