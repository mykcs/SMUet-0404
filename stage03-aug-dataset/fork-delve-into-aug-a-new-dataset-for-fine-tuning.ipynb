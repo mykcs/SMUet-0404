{
 "metadata": {
  "kernelspec": {
   "language": "python",
   "display_name": "Python 3",
   "name": "python3"
  },
  "language_info": {
   "name": "python",
   "version": "3.10.13",
   "mimetype": "text/x-python",
   "codemirror_mode": {
    "name": "ipython",
    "version": 3
   },
   "pygments_lexer": "ipython3",
   "nbconvert_exporter": "python",
   "file_extension": ".py"
  },
  "kaggle": {
   "accelerator": "tpu1vmV38",
   "dataSources": [
    {
     "sourceId": 7972942,
     "sourceType": "datasetVersion",
     "datasetId": 4691017
    }
   ],
   "dockerImageVersionId": 30674,
   "isInternetEnabled": true,
   "language": "python",
   "sourceType": "notebook",
   "isGpuEnabled": false
  }
 },
 "nbformat_minor": 4,
 "nbformat": 4,
 "cells": [
  {
   "cell_type": "code",
   "outputs": [],
   "source": [
    "!pip install segmentation-models-pytorch -q\n",
    "!pip install lightning -q\n",
    "!pip install wandb -U -q\n",
    "!pip install monai -q"
   ],
   "metadata": {
    "collapsed": false,
    "is_executing": true,
    "ExecuteTime": {
     "start_time": "2024-04-16T19:42:51.512657Z"
    }
   }
  },
  {
   "cell_type": "code",
   "outputs": [],
   "source": [
    "import IPython\n",
    "import ipywidgets\n",
    "from pytorch_lightning import Trainer\n",
    "from pytorch_lightning.loggers import WandbLogger\n",
    "from pytorch_lightning.tuner.tuning import Tuner\n",
    "from IPython.display import display\n",
    "import numpy as np\n",
    "import nibabel as nib\n",
    "import os\n",
    "from os.path import join\n",
    "from tqdm.notebook import tqdm\n",
    "import torch\n",
    "import torch.nn as nn\n",
    "import torch.nn.functional as F\n",
    "import torch.optim as optim\n",
    "from torch.utils.data import Dataset, DataLoader\n",
    "import segmentation_models_pytorch as smp\n",
    "from segmentation_models_pytorch import utils\n",
    "import albumentations as A\n",
    "from albumentations.pytorch import ToTensorV2\n",
    "import monai\n",
    "from monai.losses import *\n",
    "import pytorch_lightning as pl\n",
    "from pytorch_lightning.tuner.tuning import Tuner\n",
    "from pytorch_lightning import Trainer\n",
    "from pytorch_lightning.callbacks import LearningRateMonitor\n",
    "from pytorch_lightning import LightningDataModule\n",
    "from sklearn.model_selection import train_test_split\n",
    "import matplotlib.pyplot as plt\n",
    "from fastai.losses import *\n",
    "import torchmetrics\n",
    "import wandb\n",
    "# from lightning.pytorch.loggers import WandbLogger\n",
    "from pytorch_lightning.core.mixins import HyperparametersMixin\n",
    "from pytorch_lightning.callbacks import Callback\n",
    "from matplotlib.patches import Patch, Rectangle\n",
    "import cv2\n",
    "\n",
    "IPython.display.clear_output()\n",
    "\n",
    "print(\"Envirionment Set Up.\")"
   ],
   "metadata": {
    "execution": {
     "iopub.status.busy": "2024-04-08T17:45:55.659497Z",
     "iopub.execute_input": "2024-04-08T17:45:55.659914Z",
     "iopub.status.idle": "2024-04-08T17:47:55.777939Z",
     "shell.execute_reply.started": "2024-04-08T17:45:55.65988Z",
     "shell.execute_reply": "2024-04-08T17:47:55.776739Z"
    },
    "trusted": true
   },
   "execution_count": 0
  },
  {
   "cell_type": "code",
   "source": [
    "# 定义文件加载和展示函数\n",
    "def load_and_display_npz(image_path, mask_path):\n",
    "    # 加载数据\n",
    "    image_data = np.load(image_path)\n",
    "    mask_data = np.load(mask_path)\n",
    "\n",
    "    # 假设 npz 文件内部使用 'arr_0' 作为键名\n",
    "    image = image_data['arr_0']\n",
    "    mask = mask_data['arr_0']\n",
    "\n",
    "    # 打印图像和掩码信息\n",
    "    print(\"图像信息:\")\n",
    "    print(f\"形状: {image.shape}, 类型: {image.dtype}\")\n",
    "    print(\"掩码信息:\")\n",
    "    print(f\"形状: {mask.shape}, 类型: {mask.dtype}\")\n",
    "\n",
    "    # 显示图像和掩码\n",
    "    fig, ax = plt.subplots(1, 2, figsize=(12, 6))\n",
    "    ax[0].imshow(image, cmap='gray')\n",
    "    ax[0].set_title('Image')\n",
    "    ax[0].axis('off')  # 不显示坐标轴\n",
    "    ax[1].imshow(mask, cmap='tab20')\n",
    "    ax[1].set_title('Mask')\n",
    "    ax[1].axis('off')  # 不显示坐标轴\n",
    "    plt.show()\n",
    "\n",
    "# 设定图像和掩码的路径\n",
    "image_dir = '/kaggle/input/rawniidataset/SMU_Dataset/image_npz'\n",
    "mask_dir = '/kaggle/input/rawniidataset/SMU_Dataset/mask_npz'\n",
    "\n",
    "# 列出目录中的文件\n",
    "image_files = sorted(os.listdir(image_dir))\n",
    "mask_files = sorted(os.listdir(mask_dir))\n",
    "\n",
    "# 假设图像文件和掩码文件名是一一对应的\n",
    "for image_file, mask_file in zip(image_files, mask_files):\n",
    "    # 构建完整的文件路径\n",
    "    image_path = os.path.join(image_dir, image_file)\n",
    "    mask_path = os.path.join(mask_dir, mask_file)\n",
    "\n",
    "    # 加载并显示一对文件\n",
    "    load_and_display_npz(image_path, mask_path)\n",
    "    break  # 只显示第一对，之后可以移除这个break来查看所有配对文件\n",
    "\n"
   ],
   "metadata": {
    "execution": {
     "iopub.status.busy": "2024-04-08T17:47:55.780089Z",
     "iopub.execute_input": "2024-04-08T17:47:55.780988Z"
    },
    "trusted": true
   },
   "execution_count": null,
   "outputs": []
  },
  {
   "cell_type": "code",
   "source": [
    "import os\n",
    "import numpy as np\n",
    "from tqdm.auto import tqdm\n",
    "\n",
    "# 设定mask文件夹的路径\n",
    "mask_dir = '/kaggle/input/rawniidataset/SMU_Dataset/mask_npz'\n",
    "\n",
    "# 初始化一个长度为14的数组来存储每个类别的计数（假设类别标签是从0到13）\n",
    "class_counts = np.zeros(14, dtype=int)\n",
    "\n",
    "# 遍历mask文件夹中的所有npz文件\n",
    "for filename in tqdm(os.listdir(mask_dir)):\n",
    "    if filename.endswith('.npz'):\n",
    "        file_path = os.path.join(mask_dir, filename)\n",
    "        # 加载npz文件\n",
    "        data = np.load(file_path)\n",
    "        mask = data['arr_0']  # 假设mask数组存储在'arr_0'键下\n",
    "        mask = mask.astype(int)  # 将mask转换为整数类型\n",
    "        # 获取出现的类别标签，不计算每个类别的具体像素数\n",
    "        unique_classes = np.unique(mask)  # 获取文件中出现的所有唯一类别标签\n",
    "        # 对出现的每个类别计数增加1\n",
    "        class_counts[unique_classes] += 1\n",
    "\n",
    "# 打印每个类别的计数结果\n",
    "for i, count in enumerate(class_counts):\n",
    "    print(f\"Class {i}: {count} times\")\n"
   ],
   "metadata": {
    "execution": {
     "iopub.status.idle": "2024-04-08T17:48:20.954809Z",
     "shell.execute_reply.started": "2024-04-08T17:47:57.132097Z",
     "shell.execute_reply": "2024-04-08T17:48:20.95374Z"
    },
    "trusted": true
   },
   "execution_count": null,
   "outputs": []
  },
  {
   "cell_type": "code",
   "source": [
    "import os\n",
    "import numpy as np\n",
    "\n",
    "# 定义mask文件夹的路径\n",
    "mask_dir = '/kaggle/input/rawniidataset/SMU_Dataset/mask_npz'\n",
    "\n",
    "# 定义目标类别\n",
    "target_classes = {4, 5, 10, 11, 12, 13}\n",
    "\n",
    "# 初始化列表来存储选中的npz文件路径\n",
    "selected_files = []\n",
    "\n",
    "# 遍历mask文件夹中的所有npz文件\n",
    "for filename in tqdm(os.listdir(mask_dir)):\n",
    "    if filename.endswith('.npz'):\n",
    "        file_path = os.path.join(mask_dir, filename)\n",
    "        # 加载npz文件\n",
    "        data = np.load(file_path)\n",
    "        mask = data['arr_0']  # 假设mask数组存储在'arr_0'键下\n",
    "        mask = mask.astype(int)  # 将mask转换为整数类型\n",
    "        # 获取出现的类别标签\n",
    "        unique_classes = np.unique(mask)\n",
    "        # 检查是否有任意目标类别出现在文件中\n",
    "        if any(cls in target_classes for cls in unique_classes):\n",
    "            selected_files.append(file_path)\n",
    "\n",
    "len(selected_files)\n"
   ],
   "metadata": {
    "execution": {
     "iopub.status.busy": "2024-04-08T17:48:20.957269Z",
     "iopub.execute_input": "2024-04-08T17:48:20.957614Z",
     "iopub.status.idle": "2024-04-08T17:48:37.416322Z",
     "shell.execute_reply.started": "2024-04-08T17:48:20.957586Z",
     "shell.execute_reply": "2024-04-08T17:48:37.415269Z"
    },
    "trusted": true
   },
   "execution_count": null,
   "outputs": []
  },
  {
   "cell_type": "code",
   "source": [
    "import random\n",
    "# 假设 selected_files 是包含符合条件 npz 文件路径的列表\n",
    "\n",
    "# 从 selected_files 中随机选取4个文件\n",
    "if len(selected_files) >= 4:\n",
    "    chosen_files = random.sample(selected_files, 4)\n",
    "else:\n",
    "    chosen_files = selected_files  # 如果不足4个，则全部选择\n",
    "\n",
    "# 创建图形和子图\n",
    "fig, axs = plt.subplots(1, 4, figsize=(20, 5))  # 1行4列的子图\n",
    "fig.suptitle('Randomly Selected NPZ Masks')\n",
    "\n",
    "# 加载每个选中文件的mask并显示\n",
    "for i, file_path in enumerate(chosen_files):\n",
    "    data = np.load(file_path)\n",
    "    mask = data['arr_0']  # 假设mask数组存储在'arr_0'键下\n",
    "    ax = axs[i]\n",
    "    ax.imshow(mask, cmap='tab20')  # 使用tab20颜色映射以更好地区分不同类别\n",
    "    ax.title.set_text(f'File: {os.path.basename(file_path)}')\n",
    "    ax.axis('off')  # 关闭坐标轴\n",
    "\n",
    "plt.tight_layout()\n",
    "plt.show()\n"
   ],
   "metadata": {
    "execution": {
     "iopub.status.busy": "2024-04-08T17:48:37.417481Z",
     "iopub.execute_input": "2024-04-08T17:48:37.417788Z",
     "iopub.status.idle": "2024-04-08T17:48:38.12798Z",
     "shell.execute_reply.started": "2024-04-08T17:48:37.417763Z",
     "shell.execute_reply": "2024-04-08T17:48:38.127132Z"
    },
    "trusted": true
   },
   "execution_count": null,
   "outputs": []
  },
  {
   "cell_type": "code",
   "source": [
    "import os\n",
    "import shutil\n",
    "\n",
    "# 假设 selected_files 包含了我们需要复制的 mask 文件的完整路径\n",
    "\n",
    "# 设置新数据集的目录\n",
    "new_mask_dir = '/kaggle/working/AUG_dataset/mask_npz'\n",
    "new_image_dir = '/kaggle/working/AUG_dataset/image_npz'\n",
    "os.makedirs(new_mask_dir, exist_ok=True)  # 创建新的掩码文件目录\n",
    "os.makedirs(new_image_dir, exist_ok=True)  # 创建新的图像文件目录\n",
    "\n",
    "# 复制mask文件和对应的image文件\n",
    "for mask_path in tqdm(selected_files):\n",
    "    # 复制掩码文件\n",
    "    shutil.copy(mask_path, new_mask_dir)\n",
    "    \n",
    "    # 生成对应的图像文件路径\n",
    "    mask_filename = os.path.basename(mask_path)  # 获取掩码文件的文件名\n",
    "    image_filename = mask_filename.replace('mask', 'image')  # 替换文件名中的 'mask' 为 'image'\n",
    "    \n",
    "    # 源图像文件路径\n",
    "    original_image_path = mask_path.replace('mask_npz', 'image_npz').replace(mask_filename, image_filename)\n",
    "    \n",
    "    # 复制图像文件\n",
    "    if os.path.exists(original_image_path):\n",
    "        shutil.copy(original_image_path, new_image_dir)\n",
    "    else:\n",
    "        print(f\"Image file not found for {original_image_path}\")\n",
    "\n",
    "# 打印完成消息\n",
    "print(\"Selected masks and their corresponding images have been copied to the new dataset directory.\")\n"
   ],
   "metadata": {
    "execution": {
     "iopub.status.busy": "2024-04-08T17:48:38.129196Z",
     "iopub.execute_input": "2024-04-08T17:48:38.129752Z",
     "iopub.status.idle": "2024-04-08T17:49:08.852186Z",
     "shell.execute_reply.started": "2024-04-08T17:48:38.12971Z",
     "shell.execute_reply": "2024-04-08T17:49:08.851088Z"
    },
    "trusted": true
   },
   "execution_count": null,
   "outputs": []
  },
  {
   "cell_type": "code",
   "source": [
    "# 定义文件路径\n",
    "image_dir = '/kaggle/working/AUG_dataset/image_npz'\n",
    "mask_dir = '/kaggle/working/AUG_dataset/mask_npz'\n",
    "\n",
    "# 获取文件列表\n",
    "image_files = [f for f in os.listdir(image_dir) if f.endswith('.npz')]\n",
    "mask_files = [f for f in os.listdir(mask_dir) if f.endswith('.npz')]\n",
    "\n",
    "# 随机选择一个图像文件\n",
    "selected_image_file = np.random.choice(image_files)\n",
    "\n",
    "# 构造对应的掩码文件名（假设命名规则是一致的，只是前缀不同）\n",
    "selected_mask_file = selected_image_file.replace('image', 'mask')\n",
    "\n",
    "# 读取图像和掩码文件\n",
    "image_path = os.path.join(image_dir, selected_image_file)\n",
    "mask_path = os.path.join(mask_dir, selected_mask_file)\n",
    "\n",
    "image_data = np.load(image_path)['arr_0']\n",
    "mask_data = np.load(mask_path)['arr_0']\n",
    "# print mask unique\n",
    "print(np.unique(mask_data))\n",
    "# 可视化图像和掩码\n",
    "fig, axs = plt.subplots(1, 2, figsize=(12, 6))\n",
    "\n",
    "axs[0].imshow(image_data, cmap='gray')\n",
    "axs[0].set_title('Image')\n",
    "axs[0].axis('off')\n",
    "\n",
    "axs[1].imshow(mask_data, cmap='tab20')\n",
    "axs[1].set_title('Mask')\n",
    "axs[1].axis('off')\n",
    "\n",
    "plt.show()\n"
   ],
   "metadata": {
    "execution": {
     "iopub.status.busy": "2024-04-08T17:49:08.853546Z",
     "iopub.execute_input": "2024-04-08T17:49:08.853852Z",
     "iopub.status.idle": "2024-04-08T17:49:09.269521Z",
     "shell.execute_reply.started": "2024-04-08T17:49:08.853826Z",
     "shell.execute_reply": "2024-04-08T17:49:09.268185Z"
    },
    "trusted": true
   },
   "execution_count": null,
   "outputs": []
  }
 ]
}
